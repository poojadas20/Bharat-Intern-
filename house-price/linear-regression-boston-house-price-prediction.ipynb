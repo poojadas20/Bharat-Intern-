{
 "cells": [
  {
   "cell_type": "markdown",
   "id": "c18ce21c",
   "metadata": {
    "id": "2_cJypdzHTQI",
    "papermill": {
     "duration": 0.060937,
     "end_time": "2021-08-09T14:50:44.687323",
     "exception": false,
     "start_time": "2021-08-09T14:50:44.626386",
     "status": "completed"
    },
    "tags": []
   },
   "source": [
    "# Linear Regression: Boston House Price Prediction\n"
   ]
  },
  {
   "cell_type": "markdown",
   "id": "a4a02694",
   "metadata": {
    "id": "-Ywdg8t8HTQL",
    "papermill": {
     "duration": 0.058138,
     "end_time": "2021-08-09T14:50:44.804510",
     "exception": false,
     "start_time": "2021-08-09T14:50:44.746372",
     "status": "completed"
    },
    "tags": []
   },
   "source": [
    "## Problem Statement\n",
    "---------------------------\n",
    "\n",
    "The problem on hand is to predict the housing prices of a town or a suburb based on the features of the locality provided to us. In the process, we need to identify the most important features in the dataset. We need to employ techniques of data preprocessing and build a linear regression model that predicts the prices for us. \n",
    "\n",
    "----------------------------\n",
    "## Data Information\n",
    "---------------------------\n",
    "\n",
    "Each record in the database describes a Boston suburb or town. The data was drawn from the Boston Standard Metropolitan Statistical Area (SMSA) in 1970. Detailed attribute information can be found below-\n",
    "\n",
    "Attribute Information (in order):\n",
    "- **CRIM:**     per capita crime rate by town\n",
    "- **ZN:**       proportion of residential land zoned for lots over 25,000 sq.ft.\n",
    "- **INDUS:**    proportion of non-retail business acres per town\n",
    "- **CHAS:**     Charles River dummy variable (= 1 if tract bounds river; 0 otherwise)\n",
    "- **NOX:**      nitric oxides concentration (parts per 10 million)\n",
    "- **RM:**       average number of rooms per dwelling\n",
    "- **AGE:**     proportion of owner-occupied units built prior to 1940\n",
    "- **DIS:**      weighted distances to five Boston employment centres\n",
    "- **RAD:**      index of accessibility to radial highways\n",
    "- **TAX:**      full-value property-tax rate per 10,000 dollars\n",
    "- **PTRATIO:**  pupil-teacher ratio by town\n",
    "- **B1000:**  (Bk - 0.63)^2 where Bk is the proportion of blacks by town\n",
    "- **LSTAT:**    %lower status of the population\n",
    "- **MEDV:**     Median value of owner-occupied homes in 1000 dollars.\n",
    "\n",
    "--------------------------------------------"
   ]
  },
  {
   "cell_type": "markdown",
   "id": "b4cab92f",
   "metadata": {
    "id": "Pzh5TNLcHTQM",
    "papermill": {
     "duration": 0.057765,
     "end_time": "2021-08-09T14:50:44.920274",
     "exception": false,
     "start_time": "2021-08-09T14:50:44.862509",
     "status": "completed"
    },
    "tags": []
   },
   "source": [
    "### Let us start by importing the required libraries"
   ]
  },
  {
   "cell_type": "code",
   "execution_count": 1,
   "id": "69a0376a",
   "metadata": {
    "execution": {
     "iopub.execute_input": "2021-08-09T14:50:45.054653Z",
     "iopub.status.busy": "2021-08-09T14:50:45.053699Z",
     "iopub.status.idle": "2021-08-09T14:50:47.220661Z",
     "shell.execute_reply": "2021-08-09T14:50:47.221424Z",
     "shell.execute_reply.started": "2021-08-09T14:27:15.263986Z"
    },
    "id": "JAwzXNJvHTQN",
    "papermill": {
     "duration": 2.241808,
     "end_time": "2021-08-09T14:50:47.221721",
     "exception": false,
     "start_time": "2021-08-09T14:50:44.979913",
     "status": "completed"
    },
    "tags": []
   },
   "outputs": [],
   "source": [
    "# import libraries for data manipulation\n",
    "import pandas as pd\n",
    "import numpy as np\n",
    "\n",
    "# import libraries for data visualization\n",
    "import matplotlib.pyplot as plt\n",
    "import seaborn as sns\n",
    "from statsmodels.graphics.gofplots import ProbPlot\n",
    "\n",
    "# import libraries for building linear regression model\n",
    "from statsmodels.formula.api import ols\n",
    "import statsmodels.api as sm\n",
    "from sklearn.linear_model import LinearRegression\n",
    "\n",
    "# import library for preparing data\n",
    "from sklearn.model_selection import train_test_split\n",
    "\n",
    "# import library for data preprocessing\n",
    "from sklearn.preprocessing import MinMaxScaler\n",
    "\n",
    "import warnings\n",
    "warnings.filterwarnings(\"ignore\")"
   ]
  },
  {
   "cell_type": "markdown",
   "id": "e1cfa52d",
   "metadata": {
    "id": "J7VVqC8nHTQT",
    "papermill": {
     "duration": 0.05763,
     "end_time": "2021-08-09T14:50:47.337380",
     "exception": false,
     "start_time": "2021-08-09T14:50:47.279750",
     "status": "completed"
    },
    "tags": []
   },
   "source": [
    "### Read the dataset"
   ]
  },
  {
   "cell_type": "code",
   "execution_count": 2,
   "id": "836a5082",
   "metadata": {
    "execution": {
     "iopub.execute_input": "2021-08-09T14:50:47.459392Z",
     "iopub.status.busy": "2021-08-09T14:50:47.458691Z",
     "iopub.status.idle": "2021-08-09T14:50:47.509949Z",
     "shell.execute_reply": "2021-08-09T14:50:47.510544Z",
     "shell.execute_reply.started": "2021-08-09T14:27:16.018191Z"
    },
    "id": "zEHB3h_pHTQU",
    "outputId": "87895484-50ac-4e04-ba49-da32f8b78dfc",
    "papermill": {
     "duration": 0.115439,
     "end_time": "2021-08-09T14:50:47.510729",
     "exception": false,
     "start_time": "2021-08-09T14:50:47.395290",
     "status": "completed"
    },
    "tags": []
   },
   "outputs": [
    {
     "data": {
      "text/html": [
       "<div>\n",
       "<style scoped>\n",
       "    .dataframe tbody tr th:only-of-type {\n",
       "        vertical-align: middle;\n",
       "    }\n",
       "\n",
       "    .dataframe tbody tr th {\n",
       "        vertical-align: top;\n",
       "    }\n",
       "\n",
       "    .dataframe thead th {\n",
       "        text-align: right;\n",
       "    }\n",
       "</style>\n",
       "<table border=\"1\" class=\"dataframe\">\n",
       "  <thead>\n",
       "    <tr style=\"text-align: right;\">\n",
       "      <th></th>\n",
       "      <th>0</th>\n",
       "      <th>1</th>\n",
       "      <th>2</th>\n",
       "      <th>3</th>\n",
       "      <th>4</th>\n",
       "      <th>5</th>\n",
       "      <th>6</th>\n",
       "      <th>7</th>\n",
       "      <th>8</th>\n",
       "      <th>9</th>\n",
       "      <th>10</th>\n",
       "      <th>11</th>\n",
       "      <th>12</th>\n",
       "      <th>13</th>\n",
       "    </tr>\n",
       "  </thead>\n",
       "  <tbody>\n",
       "    <tr>\n",
       "      <th>0</th>\n",
       "      <td>0.00632</td>\n",
       "      <td>18.0</td>\n",
       "      <td>2.31</td>\n",
       "      <td>0</td>\n",
       "      <td>0.538</td>\n",
       "      <td>6.575</td>\n",
       "      <td>65.2</td>\n",
       "      <td>4.0900</td>\n",
       "      <td>1</td>\n",
       "      <td>296.0</td>\n",
       "      <td>15.3</td>\n",
       "      <td>396.90</td>\n",
       "      <td>4.98</td>\n",
       "      <td>24.0</td>\n",
       "    </tr>\n",
       "    <tr>\n",
       "      <th>1</th>\n",
       "      <td>0.02731</td>\n",
       "      <td>0.0</td>\n",
       "      <td>7.07</td>\n",
       "      <td>0</td>\n",
       "      <td>0.469</td>\n",
       "      <td>6.421</td>\n",
       "      <td>78.9</td>\n",
       "      <td>4.9671</td>\n",
       "      <td>2</td>\n",
       "      <td>242.0</td>\n",
       "      <td>17.8</td>\n",
       "      <td>396.90</td>\n",
       "      <td>9.14</td>\n",
       "      <td>21.6</td>\n",
       "    </tr>\n",
       "    <tr>\n",
       "      <th>2</th>\n",
       "      <td>0.02729</td>\n",
       "      <td>0.0</td>\n",
       "      <td>7.07</td>\n",
       "      <td>0</td>\n",
       "      <td>0.469</td>\n",
       "      <td>7.185</td>\n",
       "      <td>61.1</td>\n",
       "      <td>4.9671</td>\n",
       "      <td>2</td>\n",
       "      <td>242.0</td>\n",
       "      <td>17.8</td>\n",
       "      <td>392.83</td>\n",
       "      <td>4.03</td>\n",
       "      <td>34.7</td>\n",
       "    </tr>\n",
       "    <tr>\n",
       "      <th>3</th>\n",
       "      <td>0.03237</td>\n",
       "      <td>0.0</td>\n",
       "      <td>2.18</td>\n",
       "      <td>0</td>\n",
       "      <td>0.458</td>\n",
       "      <td>6.998</td>\n",
       "      <td>45.8</td>\n",
       "      <td>6.0622</td>\n",
       "      <td>3</td>\n",
       "      <td>222.0</td>\n",
       "      <td>18.7</td>\n",
       "      <td>394.63</td>\n",
       "      <td>2.94</td>\n",
       "      <td>33.4</td>\n",
       "    </tr>\n",
       "    <tr>\n",
       "      <th>4</th>\n",
       "      <td>0.06905</td>\n",
       "      <td>0.0</td>\n",
       "      <td>2.18</td>\n",
       "      <td>0</td>\n",
       "      <td>0.458</td>\n",
       "      <td>7.147</td>\n",
       "      <td>54.2</td>\n",
       "      <td>6.0622</td>\n",
       "      <td>3</td>\n",
       "      <td>222.0</td>\n",
       "      <td>18.7</td>\n",
       "      <td>396.90</td>\n",
       "      <td>5.33</td>\n",
       "      <td>36.2</td>\n",
       "    </tr>\n",
       "  </tbody>\n",
       "</table>\n",
       "</div>"
      ],
      "text/plain": [
       "        0     1     2   3      4      5     6       7   8      9     10  \\\n",
       "0  0.00632  18.0  2.31   0  0.538  6.575  65.2  4.0900   1  296.0  15.3   \n",
       "1  0.02731   0.0  7.07   0  0.469  6.421  78.9  4.9671   2  242.0  17.8   \n",
       "2  0.02729   0.0  7.07   0  0.469  7.185  61.1  4.9671   2  242.0  17.8   \n",
       "3  0.03237   0.0  2.18   0  0.458  6.998  45.8  6.0622   3  222.0  18.7   \n",
       "4  0.06905   0.0  2.18   0  0.458  7.147  54.2  6.0622   3  222.0  18.7   \n",
       "\n",
       "       11    12    13  \n",
       "0  396.90  4.98  24.0  \n",
       "1  396.90  9.14  21.6  \n",
       "2  392.83  4.03  34.7  \n",
       "3  394.63  2.94  33.4  \n",
       "4  396.90  5.33  36.2  "
      ]
     },
     "execution_count": 2,
     "metadata": {},
     "output_type": "execute_result"
    }
   ],
   "source": [
    "df = pd.read_csv(\"./housing.csv\",  header=None, delim_whitespace=True)\n",
    "df.head()s"
   ]
  },
  {
   "cell_type": "markdown",
   "id": "e08d02ed",
   "metadata": {
    "papermill": {
     "duration": 0.058253,
     "end_time": "2021-08-09T14:50:47.633604",
     "exception": false,
     "start_time": "2021-08-09T14:50:47.575351",
     "status": "completed"
    },
    "tags": []
   },
   "source": []
  },
  {
   "cell_type": "code",
   "execution_count": 3,
   "id": "476f0696",
   "metadata": {
    "execution": {
     "iopub.execute_input": "2021-08-09T14:50:47.754668Z",
     "iopub.status.busy": "2021-08-09T14:50:47.753610Z",
     "iopub.status.idle": "2021-08-09T14:50:47.782292Z",
     "shell.execute_reply": "2021-08-09T14:50:47.782826Z",
     "shell.execute_reply.started": "2021-08-09T14:30:05.339766Z"
    },
    "papermill": {
     "duration": 0.090663,
     "end_time": "2021-08-09T14:50:47.783000",
     "exception": false,
     "start_time": "2021-08-09T14:50:47.692337",
     "status": "completed"
    },
    "tags": []
   },
   "outputs": [
    {
     "data": {
      "text/html": [
       "<div>\n",
       "<style scoped>\n",
       "    .dataframe tbody tr th:only-of-type {\n",
       "        vertical-align: middle;\n",
       "    }\n",
       "\n",
       "    .dataframe tbody tr th {\n",
       "        vertical-align: top;\n",
       "    }\n",
       "\n",
       "    .dataframe thead th {\n",
       "        text-align: right;\n",
       "    }\n",
       "</style>\n",
       "<table border=\"1\" class=\"dataframe\">\n",
       "  <thead>\n",
       "    <tr style=\"text-align: right;\">\n",
       "      <th></th>\n",
       "      <th>CRIM</th>\n",
       "      <th>ZN</th>\n",
       "      <th>INDUS</th>\n",
       "      <th>CHAS</th>\n",
       "      <th>NOX</th>\n",
       "      <th>RM</th>\n",
       "      <th>AGE</th>\n",
       "      <th>DIS</th>\n",
       "      <th>RAD</th>\n",
       "      <th>TAX</th>\n",
       "      <th>PTRATIO</th>\n",
       "      <th>B</th>\n",
       "      <th>LSTAT</th>\n",
       "      <th>MEDV</th>\n",
       "    </tr>\n",
       "  </thead>\n",
       "  <tbody>\n",
       "    <tr>\n",
       "      <th>0</th>\n",
       "      <td>0.00632</td>\n",
       "      <td>18.0</td>\n",
       "      <td>2.31</td>\n",
       "      <td>0</td>\n",
       "      <td>0.538</td>\n",
       "      <td>6.575</td>\n",
       "      <td>65.2</td>\n",
       "      <td>4.0900</td>\n",
       "      <td>1</td>\n",
       "      <td>296.0</td>\n",
       "      <td>15.3</td>\n",
       "      <td>396.90</td>\n",
       "      <td>4.98</td>\n",
       "      <td>24.0</td>\n",
       "    </tr>\n",
       "    <tr>\n",
       "      <th>1</th>\n",
       "      <td>0.02731</td>\n",
       "      <td>0.0</td>\n",
       "      <td>7.07</td>\n",
       "      <td>0</td>\n",
       "      <td>0.469</td>\n",
       "      <td>6.421</td>\n",
       "      <td>78.9</td>\n",
       "      <td>4.9671</td>\n",
       "      <td>2</td>\n",
       "      <td>242.0</td>\n",
       "      <td>17.8</td>\n",
       "      <td>396.90</td>\n",
       "      <td>9.14</td>\n",
       "      <td>21.6</td>\n",
       "    </tr>\n",
       "    <tr>\n",
       "      <th>2</th>\n",
       "      <td>0.02729</td>\n",
       "      <td>0.0</td>\n",
       "      <td>7.07</td>\n",
       "      <td>0</td>\n",
       "      <td>0.469</td>\n",
       "      <td>7.185</td>\n",
       "      <td>61.1</td>\n",
       "      <td>4.9671</td>\n",
       "      <td>2</td>\n",
       "      <td>242.0</td>\n",
       "      <td>17.8</td>\n",
       "      <td>392.83</td>\n",
       "      <td>4.03</td>\n",
       "      <td>34.7</td>\n",
       "    </tr>\n",
       "    <tr>\n",
       "      <th>3</th>\n",
       "      <td>0.03237</td>\n",
       "      <td>0.0</td>\n",
       "      <td>2.18</td>\n",
       "      <td>0</td>\n",
       "      <td>0.458</td>\n",
       "      <td>6.998</td>\n",
       "      <td>45.8</td>\n",
       "      <td>6.0622</td>\n",
       "      <td>3</td>\n",
       "      <td>222.0</td>\n",
       "      <td>18.7</td>\n",
       "      <td>394.63</td>\n",
       "      <td>2.94</td>\n",
       "      <td>33.4</td>\n",
       "    </tr>\n",
       "    <tr>\n",
       "      <th>4</th>\n",
       "      <td>0.06905</td>\n",
       "      <td>0.0</td>\n",
       "      <td>2.18</td>\n",
       "      <td>0</td>\n",
       "      <td>0.458</td>\n",
       "      <td>7.147</td>\n",
       "      <td>54.2</td>\n",
       "      <td>6.0622</td>\n",
       "      <td>3</td>\n",
       "      <td>222.0</td>\n",
       "      <td>18.7</td>\n",
       "      <td>396.90</td>\n",
       "      <td>5.33</td>\n",
       "      <td>36.2</td>\n",
       "    </tr>\n",
       "  </tbody>\n",
       "</table>\n",
       "</div>"
      ],
      "text/plain": [
       "      CRIM    ZN  INDUS  CHAS    NOX     RM   AGE     DIS  RAD    TAX  \\\n",
       "0  0.00632  18.0   2.31     0  0.538  6.575  65.2  4.0900    1  296.0   \n",
       "1  0.02731   0.0   7.07     0  0.469  6.421  78.9  4.9671    2  242.0   \n",
       "2  0.02729   0.0   7.07     0  0.469  7.185  61.1  4.9671    2  242.0   \n",
       "3  0.03237   0.0   2.18     0  0.458  6.998  45.8  6.0622    3  222.0   \n",
       "4  0.06905   0.0   2.18     0  0.458  7.147  54.2  6.0622    3  222.0   \n",
       "\n",
       "   PTRATIO       B  LSTAT  MEDV  \n",
       "0     15.3  396.90   4.98  24.0  \n",
       "1     17.8  396.90   9.14  21.6  \n",
       "2     17.8  392.83   4.03  34.7  \n",
       "3     18.7  394.63   2.94  33.4  \n",
       "4     18.7  396.90   5.33  36.2  "
      ]
     },
     "execution_count": 3,
     "metadata": {},
     "output_type": "execute_result"
    }
   ],
   "source": [
    "df.columns = ['CRIM','ZN','INDUS','CHAS','NOX','RM','AGE','DIS','RAD','TAX','PTRATIO','B', 'LSTAT','MEDV']\n",
    "df.head()"
   ]
  },
  {
   "cell_type": "markdown",
   "id": "2d26fe5e",
   "metadata": {
    "id": "ynVgcm3SmEaI",
    "papermill": {
     "duration": 0.059067,
     "end_time": "2021-08-09T14:50:47.901935",
     "exception": false,
     "start_time": "2021-08-09T14:50:47.842868",
     "status": "completed"
    },
    "tags": []
   },
   "source": [
    "* The price of the house indicated by the variable MEDV is the target variable and the rest are the independent variables based on which we will predict house price."
   ]
  },
  {
   "cell_type": "markdown",
   "id": "ec28e7f3",
   "metadata": {
    "id": "PihFetI8HTQd",
    "papermill": {
     "duration": 0.059061,
     "end_time": "2021-08-09T14:50:48.019942",
     "exception": false,
     "start_time": "2021-08-09T14:50:47.960881",
     "status": "completed"
    },
    "tags": []
   },
   "source": [
    "### Get information about the dataset using the info() method"
   ]
  },
  {
   "cell_type": "code",
   "execution_count": 4,
   "id": "fff794b8",
   "metadata": {
    "execution": {
     "iopub.execute_input": "2021-08-09T14:50:48.144380Z",
     "iopub.status.busy": "2021-08-09T14:50:48.143660Z",
     "iopub.status.idle": "2021-08-09T14:50:48.164917Z",
     "shell.execute_reply": "2021-08-09T14:50:48.165734Z",
     "shell.execute_reply.started": "2021-08-09T14:30:11.889311Z"
    },
    "id": "oGOWxi76HTQd",
    "outputId": "0695ee0a-5e82-49a2-9f7e-9ed8d34e1531",
    "papermill": {
     "duration": 0.085481,
     "end_time": "2021-08-09T14:50:48.166179",
     "exception": false,
     "start_time": "2021-08-09T14:50:48.080698",
     "status": "completed"
    },
    "tags": []
   },
   "outputs": [
    {
     "name": "stdout",
     "output_type": "stream",
     "text": [
      "<class 'pandas.core.frame.DataFrame'>\n",
      "RangeIndex: 506 entries, 0 to 505\n",
      "Data columns (total 14 columns):\n",
      " #   Column   Non-Null Count  Dtype  \n",
      "---  ------   --------------  -----  \n",
      " 0   CRIM     506 non-null    float64\n",
      " 1   ZN       506 non-null    float64\n",
      " 2   INDUS    506 non-null    float64\n",
      " 3   CHAS     506 non-null    int64  \n",
      " 4   NOX      506 non-null    float64\n",
      " 5   RM       506 non-null    float64\n",
      " 6   AGE      506 non-null    float64\n",
      " 7   DIS      506 non-null    float64\n",
      " 8   RAD      506 non-null    int64  \n",
      " 9   TAX      506 non-null    float64\n",
      " 10  PTRATIO  506 non-null    float64\n",
      " 11  B        506 non-null    float64\n",
      " 12  LSTAT    506 non-null    float64\n",
      " 13  MEDV     506 non-null    float64\n",
      "dtypes: float64(12), int64(2)\n",
      "memory usage: 55.5 KB\n"
     ]
    }
   ],
   "source": [
    "df.info()"
   ]
  },
  {
   "cell_type": "markdown",
   "id": "34ab0088",
   "metadata": {
    "id": "NAnFYrfhmEaJ",
    "papermill": {
     "duration": 0.05989,
     "end_time": "2021-08-09T14:50:48.286589",
     "exception": false,
     "start_time": "2021-08-09T14:50:48.226699",
     "status": "completed"
    },
    "tags": []
   },
   "source": [
    "* There are a total of 506 non-null observations in each of the columns. This indicates that there are no missing values in the data.\n",
    "\n",
    "* Every column in this dataset is numeric in nature."
   ]
  },
  {
   "cell_type": "markdown",
   "id": "63a0a315",
   "metadata": {
    "id": "UFbX18hKiKo7",
    "papermill": {
     "duration": 0.061337,
     "end_time": "2021-08-09T14:50:48.408893",
     "exception": false,
     "start_time": "2021-08-09T14:50:48.347556",
     "status": "completed"
    },
    "tags": []
   },
   "source": [
    "### summary statistics"
   ]
  },
  {
   "cell_type": "code",
   "execution_count": 5,
   "id": "94bb26e3",
   "metadata": {
    "execution": {
     "iopub.execute_input": "2021-08-09T14:50:48.535891Z",
     "iopub.status.busy": "2021-08-09T14:50:48.535242Z",
     "iopub.status.idle": "2021-08-09T14:50:48.588575Z",
     "shell.execute_reply": "2021-08-09T14:50:48.587903Z",
     "shell.execute_reply.started": "2021-08-09T14:33:50.509736Z"
    },
    "id": "bBhsiAbxHTQg",
    "papermill": {
     "duration": 0.120496,
     "end_time": "2021-08-09T14:50:48.588748",
     "exception": false,
     "start_time": "2021-08-09T14:50:48.468252",
     "status": "completed"
    },
    "scrolled": true,
    "tags": []
   },
   "outputs": [
    {
     "data": {
      "text/html": [
       "<div>\n",
       "<style scoped>\n",
       "    .dataframe tbody tr th:only-of-type {\n",
       "        vertical-align: middle;\n",
       "    }\n",
       "\n",
       "    .dataframe tbody tr th {\n",
       "        vertical-align: top;\n",
       "    }\n",
       "\n",
       "    .dataframe thead th {\n",
       "        text-align: right;\n",
       "    }\n",
       "</style>\n",
       "<table border=\"1\" class=\"dataframe\">\n",
       "  <thead>\n",
       "    <tr style=\"text-align: right;\">\n",
       "      <th></th>\n",
       "      <th>count</th>\n",
       "      <th>mean</th>\n",
       "      <th>std</th>\n",
       "      <th>min</th>\n",
       "      <th>25%</th>\n",
       "      <th>50%</th>\n",
       "      <th>75%</th>\n",
       "      <th>max</th>\n",
       "    </tr>\n",
       "  </thead>\n",
       "  <tbody>\n",
       "    <tr>\n",
       "      <th>CRIM</th>\n",
       "      <td>506.0</td>\n",
       "      <td>3.613524</td>\n",
       "      <td>8.601545</td>\n",
       "      <td>0.00632</td>\n",
       "      <td>0.082045</td>\n",
       "      <td>0.25651</td>\n",
       "      <td>3.677083</td>\n",
       "      <td>88.9762</td>\n",
       "    </tr>\n",
       "    <tr>\n",
       "      <th>ZN</th>\n",
       "      <td>506.0</td>\n",
       "      <td>11.363636</td>\n",
       "      <td>23.322453</td>\n",
       "      <td>0.00000</td>\n",
       "      <td>0.000000</td>\n",
       "      <td>0.00000</td>\n",
       "      <td>12.500000</td>\n",
       "      <td>100.0000</td>\n",
       "    </tr>\n",
       "    <tr>\n",
       "      <th>INDUS</th>\n",
       "      <td>506.0</td>\n",
       "      <td>11.136779</td>\n",
       "      <td>6.860353</td>\n",
       "      <td>0.46000</td>\n",
       "      <td>5.190000</td>\n",
       "      <td>9.69000</td>\n",
       "      <td>18.100000</td>\n",
       "      <td>27.7400</td>\n",
       "    </tr>\n",
       "    <tr>\n",
       "      <th>CHAS</th>\n",
       "      <td>506.0</td>\n",
       "      <td>0.069170</td>\n",
       "      <td>0.253994</td>\n",
       "      <td>0.00000</td>\n",
       "      <td>0.000000</td>\n",
       "      <td>0.00000</td>\n",
       "      <td>0.000000</td>\n",
       "      <td>1.0000</td>\n",
       "    </tr>\n",
       "    <tr>\n",
       "      <th>NOX</th>\n",
       "      <td>506.0</td>\n",
       "      <td>0.554695</td>\n",
       "      <td>0.115878</td>\n",
       "      <td>0.38500</td>\n",
       "      <td>0.449000</td>\n",
       "      <td>0.53800</td>\n",
       "      <td>0.624000</td>\n",
       "      <td>0.8710</td>\n",
       "    </tr>\n",
       "    <tr>\n",
       "      <th>RM</th>\n",
       "      <td>506.0</td>\n",
       "      <td>6.284634</td>\n",
       "      <td>0.702617</td>\n",
       "      <td>3.56100</td>\n",
       "      <td>5.885500</td>\n",
       "      <td>6.20850</td>\n",
       "      <td>6.623500</td>\n",
       "      <td>8.7800</td>\n",
       "    </tr>\n",
       "    <tr>\n",
       "      <th>AGE</th>\n",
       "      <td>506.0</td>\n",
       "      <td>68.574901</td>\n",
       "      <td>28.148861</td>\n",
       "      <td>2.90000</td>\n",
       "      <td>45.025000</td>\n",
       "      <td>77.50000</td>\n",
       "      <td>94.075000</td>\n",
       "      <td>100.0000</td>\n",
       "    </tr>\n",
       "    <tr>\n",
       "      <th>DIS</th>\n",
       "      <td>506.0</td>\n",
       "      <td>3.795043</td>\n",
       "      <td>2.105710</td>\n",
       "      <td>1.12960</td>\n",
       "      <td>2.100175</td>\n",
       "      <td>3.20745</td>\n",
       "      <td>5.188425</td>\n",
       "      <td>12.1265</td>\n",
       "    </tr>\n",
       "    <tr>\n",
       "      <th>RAD</th>\n",
       "      <td>506.0</td>\n",
       "      <td>9.549407</td>\n",
       "      <td>8.707259</td>\n",
       "      <td>1.00000</td>\n",
       "      <td>4.000000</td>\n",
       "      <td>5.00000</td>\n",
       "      <td>24.000000</td>\n",
       "      <td>24.0000</td>\n",
       "    </tr>\n",
       "    <tr>\n",
       "      <th>TAX</th>\n",
       "      <td>506.0</td>\n",
       "      <td>408.237154</td>\n",
       "      <td>168.537116</td>\n",
       "      <td>187.00000</td>\n",
       "      <td>279.000000</td>\n",
       "      <td>330.00000</td>\n",
       "      <td>666.000000</td>\n",
       "      <td>711.0000</td>\n",
       "    </tr>\n",
       "    <tr>\n",
       "      <th>PTRATIO</th>\n",
       "      <td>506.0</td>\n",
       "      <td>18.455534</td>\n",
       "      <td>2.164946</td>\n",
       "      <td>12.60000</td>\n",
       "      <td>17.400000</td>\n",
       "      <td>19.05000</td>\n",
       "      <td>20.200000</td>\n",
       "      <td>22.0000</td>\n",
       "    </tr>\n",
       "    <tr>\n",
       "      <th>B</th>\n",
       "      <td>506.0</td>\n",
       "      <td>356.674032</td>\n",
       "      <td>91.294864</td>\n",
       "      <td>0.32000</td>\n",
       "      <td>375.377500</td>\n",
       "      <td>391.44000</td>\n",
       "      <td>396.225000</td>\n",
       "      <td>396.9000</td>\n",
       "    </tr>\n",
       "    <tr>\n",
       "      <th>LSTAT</th>\n",
       "      <td>506.0</td>\n",
       "      <td>12.653063</td>\n",
       "      <td>7.141062</td>\n",
       "      <td>1.73000</td>\n",
       "      <td>6.950000</td>\n",
       "      <td>11.36000</td>\n",
       "      <td>16.955000</td>\n",
       "      <td>37.9700</td>\n",
       "    </tr>\n",
       "    <tr>\n",
       "      <th>MEDV</th>\n",
       "      <td>506.0</td>\n",
       "      <td>22.532806</td>\n",
       "      <td>9.197104</td>\n",
       "      <td>5.00000</td>\n",
       "      <td>17.025000</td>\n",
       "      <td>21.20000</td>\n",
       "      <td>25.000000</td>\n",
       "      <td>50.0000</td>\n",
       "    </tr>\n",
       "  </tbody>\n",
       "</table>\n",
       "</div>"
      ],
      "text/plain": [
       "         count        mean         std        min         25%        50%  \\\n",
       "CRIM     506.0    3.613524    8.601545    0.00632    0.082045    0.25651   \n",
       "ZN       506.0   11.363636   23.322453    0.00000    0.000000    0.00000   \n",
       "INDUS    506.0   11.136779    6.860353    0.46000    5.190000    9.69000   \n",
       "CHAS     506.0    0.069170    0.253994    0.00000    0.000000    0.00000   \n",
       "NOX      506.0    0.554695    0.115878    0.38500    0.449000    0.53800   \n",
       "RM       506.0    6.284634    0.702617    3.56100    5.885500    6.20850   \n",
       "AGE      506.0   68.574901   28.148861    2.90000   45.025000   77.50000   \n",
       "DIS      506.0    3.795043    2.105710    1.12960    2.100175    3.20745   \n",
       "RAD      506.0    9.549407    8.707259    1.00000    4.000000    5.00000   \n",
       "TAX      506.0  408.237154  168.537116  187.00000  279.000000  330.00000   \n",
       "PTRATIO  506.0   18.455534    2.164946   12.60000   17.400000   19.05000   \n",
       "B        506.0  356.674032   91.294864    0.32000  375.377500  391.44000   \n",
       "LSTAT    506.0   12.653063    7.141062    1.73000    6.950000   11.36000   \n",
       "MEDV     506.0   22.532806    9.197104    5.00000   17.025000   21.20000   \n",
       "\n",
       "                75%       max  \n",
       "CRIM       3.677083   88.9762  \n",
       "ZN        12.500000  100.0000  \n",
       "INDUS     18.100000   27.7400  \n",
       "CHAS       0.000000    1.0000  \n",
       "NOX        0.624000    0.8710  \n",
       "RM         6.623500    8.7800  \n",
       "AGE       94.075000  100.0000  \n",
       "DIS        5.188425   12.1265  \n",
       "RAD       24.000000   24.0000  \n",
       "TAX      666.000000  711.0000  \n",
       "PTRATIO   20.200000   22.0000  \n",
       "B        396.225000  396.9000  \n",
       "LSTAT     16.955000   37.9700  \n",
       "MEDV      25.000000   50.0000  "
      ]
     },
     "execution_count": 5,
     "metadata": {},
     "output_type": "execute_result"
    }
   ],
   "source": [
    "df.describe().T"
   ]
  },
  {
   "cell_type": "markdown",
   "id": "7edf4798",
   "metadata": {
    "id": "JacT19X1RAiQ",
    "papermill": {
     "duration": 0.059725,
     "end_time": "2021-08-09T14:50:48.714686",
     "exception": false,
     "start_time": "2021-08-09T14:50:48.654961",
     "status": "completed"
    },
    "tags": []
   },
   "source": [
    "**Observations:____**\n",
    "\n",
    "- Crime rates average is 3.6 with very low crime rates in 50% of towns and extreme high rates in other towns.\n",
    "- At least 50% of Boston towns have no zoned lands for large lot.\n",
    "- The mean of CHAS is 0.07, which means that most of the houses are not on riverside."
   ]
  },
  {
   "cell_type": "markdown",
   "id": "d5bf3ba6",
   "metadata": {
    "id": "GJtCqLwhRKpv",
    "papermill": {
     "duration": 0.059942,
     "end_time": "2021-08-09T14:50:48.834660",
     "exception": false,
     "start_time": "2021-08-09T14:50:48.774718",
     "status": "completed"
    },
    "tags": []
   },
   "source": [
    "Before performing the modeling, it is important to check the univariate distribution of the variables."
   ]
  },
  {
   "cell_type": "markdown",
   "id": "ca8a887f",
   "metadata": {
    "id": "eZF0qJCj6t42",
    "papermill": {
     "duration": 0.060741,
     "end_time": "2021-08-09T14:50:48.956099",
     "exception": false,
     "start_time": "2021-08-09T14:50:48.895358",
     "status": "completed"
    },
    "tags": []
   },
   "source": [
    "---------------------------\n",
    "## Univariate Analysis\n",
    "---------------------------"
   ]
  },
  {
   "cell_type": "markdown",
   "id": "938e59aa",
   "metadata": {
    "id": "DccQjNEOmEaL",
    "papermill": {
     "duration": 0.061116,
     "end_time": "2021-08-09T14:50:49.078350",
     "exception": false,
     "start_time": "2021-08-09T14:50:49.017234",
     "status": "completed"
    },
    "tags": []
   },
   "source": [
    "### Check the distribution of the variables"
   ]
  },
  {
   "cell_type": "code",
   "execution_count": 6,
   "id": "de4b6a1a",
   "metadata": {
    "execution": {
     "iopub.execute_input": "2021-08-09T14:50:49.225669Z",
     "iopub.status.busy": "2021-08-09T14:50:49.224998Z",
     "iopub.status.idle": "2021-08-09T14:50:52.702790Z",
     "shell.execute_reply": "2021-08-09T14:50:52.702229Z",
     "shell.execute_reply.started": "2021-08-09T14:36:54.619059Z"
    },
    "id": "tz6okxTbmEaL",
    "outputId": "b5de0bcd-3643-4153-f1f5-752875965baf",
    "papermill": {
     "duration": 3.564021,
     "end_time": "2021-08-09T14:50:52.702928",
     "exception": false,
     "start_time": "2021-08-09T14:50:49.138907",
     "status": "completed"
    },
    "tags": []
   },
   "outputs": [
    {
     "data": {
      "image/png": "[encoded data removed]",
      "text/plain": [
       "<Figure size 504x288 with 1 Axes>"
      ]
     },
     "metadata": {
      "needs_background": "light"
     },
     "output_type": "display_data"
    },
    {
     "data": {
      "image/png": "[encoded data removed]",
      "text/plain": [
       "<Figure size 504x288 with 1 Axes>"
      ]
     },
     "metadata": {
      "needs_background": "light"
     },
     "output_type": "display_data"
    },
    {
     "data": {
      "image/png": "[encoded data removed]",
      "text/plain": [
       "<Figure size 504x288 with 1 Axes>"
      ]
     },
     "metadata": {
      "needs_background": "light"
     },
     "output_type": "display_data"
    },
    {
     "data": {
      "image/png": "[encoded data removed]",
      "text/plain": [
       "<Figure size 504x288 with 1 Axes>"
      ]
     },
     "metadata": {
      "needs_background": "light"
     },
     "output_type": "display_data"
    },
    {
     "data": {
      "image/png": "[encoded data removed]",
      "text/plain": [
       "<Figure size 504x288 with 1 Axes>"
      ]
     },
     "metadata": {
      "needs_background": "light"
     },
     "output_type": "display_data"
    },
    {
     "data": {
      "image/png": "[encoded data removed]",
      "text/plain": [
       "<Figure size 504x288 with 1 Axes>"
      ]
     },
     "metadata": {
      "needs_background": "light"
     },
     "output_type": "display_data"
    },
    {
     "data": {
      "image/png": "[encoded data removed]",
      "text/plain": [
       "<Figure size 504x288 with 1 Axes>"
      ]
     },
     "metadata": {
      "needs_background": "light"
     },
     "output_type": "display_data"
    },
    {
     "data": {
      "image/png": "[encoded data removed]",
      "text/plain": [
       "<Figure size 504x288 with 1 Axes>"
      ]
     },
     "metadata": {
      "needs_background": "light"
     },
     "output_type": "display_data"
    },
    {
     "data": {
      "image/png": "[encoded data removed]",
      "text/plain": [
       "<Figure size 504x288 with 1 Axes>"
      ]
     },
     "metadata": {
      "needs_background": "light"
     },
     "output_type": "display_data"
    },
    {
     "data": {
      "image/png": "[encoded data removed]",
      "text/plain": [
       "<Figure size 504x288 with 1 Axes>"
      ]
     },
     "metadata": {
      "needs_background": "light"
     },
     "output_type": "display_data"
    },
    {
     "data": {
      "image/png": "[encoded data removed]",
      "text/plain": [
       "<Figure size 504x288 with 1 Axes>"
      ]
     },
     "metadata": {
      "needs_background": "light"
     },
     "output_type": "display_data"
    },
    {
     "data": {
      "image/png": "[encoded data removed]",
      "text/plain": [
       "<Figure size 504x288 with 1 Axes>"
      ]
     },
     "metadata": {
      "needs_background": "light"
     },
     "output_type": "display_data"
    },
    {
     "data": {
      "image/png": "[encoded data removed]",
      "text/plain": [
       "<Figure size 504x288 with 1 Axes>"
      ]
     },
     "metadata": {
      "needs_background": "light"
     },
     "output_type": "display_data"
    },
    {
     "data": {
      "image/png": "[encoded data removed]",
      "text/plain": [
       "<Figure size 504x288 with 1 Axes>"
      ]
     },
     "metadata": {
      "needs_background": "light"
     },
     "output_type": "display_data"
    }
   ],
   "source": [
    "# let's plot all the columns to look at their distributions\n",
    "for i in df.columns:\n",
    "    plt.figure(figsize=(7, 4))\n",
    "    sns.histplot(data=df, x=i, kde = True)\n",
    "    plt.show()"
   ]
  },
  {
   "cell_type": "markdown",
   "id": "0d550471",
   "metadata": {
    "id": "7r8aVFPbRKpv",
    "papermill": {
     "duration": 0.071148,
     "end_time": "2021-08-09T14:50:52.846557",
     "exception": false,
     "start_time": "2021-08-09T14:50:52.775409",
     "status": "completed"
    },
    "tags": []
   },
   "source": [
    "* **The variables CRIM and ZN are positively skewed.** This suggests that most of the areas have lower crime rates and most residential plots are under the area of 25,000 sq. ft.\n",
    "* **The variable CHAS, with only 2 possible values 0 and 1, follows a binomial distribution**, and the majority of the houses are away from Charles river (CHAS = 0).\n",
    "* The distribution of the variable AGE suggests that many of the owner-occupied houses were built before 1940. \n",
    "* **The variable DIS** (average distances to five Boston employment centers) **has a nearly exponential distribution**, which indicates that most of the houses are closer to these employment centers.\n",
    "* **The variables TAX and RAD have a bimodal distribution.**, indicating that the tax rate is possibly higher for some properties which have a high index of accessibility to radial highways.  \n",
    "* The dependent variable MEDV seems to be slightly right skewed."
   ]
  },
  {
   "cell_type": "markdown",
   "id": "63bbb8da",
   "metadata": {
    "id": "r-_G6u4ZRKpw",
    "papermill": {
     "duration": 0.07208,
     "end_time": "2021-08-09T14:50:52.990329",
     "exception": false,
     "start_time": "2021-08-09T14:50:52.918249",
     "status": "completed"
    },
    "tags": []
   },
   "source": [
    "As the dependent variable is sightly skewed, we will apply a **log transformation on the 'MEDV' column** and check the distribution of the transformed column."
   ]
  },
  {
   "cell_type": "code",
   "execution_count": 7,
   "id": "91329035",
   "metadata": {
    "execution": {
     "iopub.execute_input": "2021-08-09T14:50:53.141835Z",
     "iopub.status.busy": "2021-08-09T14:50:53.141140Z",
     "iopub.status.idle": "2021-08-09T14:50:53.144362Z",
     "shell.execute_reply": "2021-08-09T14:50:53.143791Z",
     "shell.execute_reply.started": "2021-08-09T14:37:25.648710Z"
    },
    "id": "hvsHuDuvRKpx",
    "papermill": {
     "duration": 0.080873,
     "end_time": "2021-08-09T14:50:53.144502",
     "exception": false,
     "start_time": "2021-08-09T14:50:53.063629",
     "status": "completed"
    },
    "tags": []
   },
   "outputs": [],
   "source": [
    "df['MEDV_log'] = np.log(df['MEDV'])"
   ]
  },
  {
   "cell_type": "code",
   "execution_count": 8,
   "id": "76dbc03c",
   "metadata": {
    "execution": {
     "iopub.execute_input": "2021-08-09T14:50:53.477354Z",
     "iopub.status.busy": "2021-08-09T14:50:53.476280Z",
     "iopub.status.idle": "2021-08-09T14:50:53.730732Z",
     "shell.execute_reply": "2021-08-09T14:50:53.729675Z",
     "shell.execute_reply.started": "2021-08-09T14:37:28.667736Z"
    },
    "id": "9gf4_f3wRKpx",
    "outputId": "d5abef32-ef6b-44c7-e7a2-18dd5a23ac8f",
    "papermill": {
     "duration": 0.51446,
     "end_time": "2021-08-09T14:50:53.730887",
     "exception": false,
     "start_time": "2021-08-09T14:50:53.216427",
     "status": "completed"
    },
    "tags": []
   },
   "outputs": [
    {
     "data": {
      "text/plain": [
       "<AxesSubplot:xlabel='MEDV_log', ylabel='Count'>"
      ]
     },
     "execution_count": 8,
     "metadata": {},
     "output_type": "execute_result"
    },
    {
     "data": {
      "image/png": "[encoded data removed]",
      "text/plain": [
       "<Figure size 432x288 with 1 Axes>"
      ]
     },
     "metadata": {
      "needs_background": "light"
     },
     "output_type": "display_data"
    }
   ],
   "source": [
    "sns.histplot(data=df, x='MEDV_log', kde = True)"
   ]
  },
  {
   "cell_type": "markdown",
   "id": "4824ffff",
   "metadata": {
    "id": "ctaaai666Ili",
    "papermill": {
     "duration": 0.07408,
     "end_time": "2021-08-09T14:50:53.879478",
     "exception": false,
     "start_time": "2021-08-09T14:50:53.805398",
     "status": "completed"
    },
    "tags": []
   },
   "source": [
    "The log-transformed variable (**MEDV_log**) appears to have a **nearly normal distribution without skew**, and hence we can proceeed."
   ]
  },
  {
   "cell_type": "markdown",
   "id": "59152880",
   "metadata": {
    "id": "laV5wPBJRKpy",
    "papermill": {
     "duration": 0.075022,
     "end_time": "2021-08-09T14:50:54.028392",
     "exception": false,
     "start_time": "2021-08-09T14:50:53.953370",
     "status": "completed"
    },
    "tags": []
   },
   "source": [
    "Before creating the linear regression model, it is important to check the bivariate relationship between the variables. Let's check the same using the heatmap and scatterplot."
   ]
  },
  {
   "cell_type": "markdown",
   "id": "eb3056db",
   "metadata": {
    "id": "HvSm7rwE65_B",
    "papermill": {
     "duration": 0.072572,
     "end_time": "2021-08-09T14:50:54.175079",
     "exception": false,
     "start_time": "2021-08-09T14:50:54.102507",
     "status": "completed"
    },
    "tags": []
   },
   "source": [
    "---------------------------\n",
    "## Bivariate Analysis\n",
    "---------------------------"
   ]
  },
  {
   "cell_type": "markdown",
   "id": "856823f7",
   "metadata": {
    "id": "_cRRaoo6mEaM",
    "papermill": {
     "duration": 0.07461,
     "end_time": "2021-08-09T14:50:54.322915",
     "exception": false,
     "start_time": "2021-08-09T14:50:54.248305",
     "status": "completed"
    },
    "tags": []
   },
   "source": [
    "#### Let's check the correlation using the heatmap "
   ]
  },
  {
   "cell_type": "code",
   "execution_count": 9,
   "id": "495229a7",
   "metadata": {
    "execution": {
     "iopub.execute_input": "2021-08-09T14:50:54.489579Z",
     "iopub.status.busy": "2021-08-09T14:50:54.488525Z",
     "iopub.status.idle": "2021-08-09T14:50:55.877791Z",
     "shell.execute_reply": "2021-08-09T14:50:55.878365Z",
     "shell.execute_reply.started": "2021-08-09T14:38:01.449839Z"
    },
    "id": "XGnlhiwGHTQz",
    "papermill": {
     "duration": 1.481997,
     "end_time": "2021-08-09T14:50:55.878565",
     "exception": false,
     "start_time": "2021-08-09T14:50:54.396568",
     "status": "completed"
    },
    "scrolled": true,
    "tags": []
   },
   "outputs": [
    {
     "data": {
      "image/png": "[encoded data removed]",
      "text/plain": [
       "<Figure size 864x576 with 2 Axes>"
      ]
     },
     "metadata": {
      "needs_background": "light"
     },
     "output_type": "display_data"
    }
   ],
   "source": [
    "plt.figure(figsize=(12,8))\n",
    "cmap = sns.diverging_palette(230, 20, as_cmap=True)\n",
    "sns.heatmap(df.corr(),annot=True,fmt='.2f',cmap=cmap ) \n",
    "plt.show()"
   ]
  },
  {
   "cell_type": "markdown",
   "id": "a261d365",
   "metadata": {
    "id": "Kmsjqg4oRAim",
    "papermill": {
     "duration": 0.077784,
     "end_time": "2021-08-09T14:50:56.034669",
     "exception": false,
     "start_time": "2021-08-09T14:50:55.956885",
     "status": "completed"
    },
    "tags": []
   },
   "source": [
    "**Observations:______**\n",
    "\n",
    "- Proportion of non-retail business acres is positively correlated with oxide concentration. This implies town with high non-retail business areas have higher acids emissions. Could be a causation as well.\n",
    "- Also, proportion of non-retail business acres is positively correlated with taxes. This implies that higher taxes are imposed on houses in town with high non-retail business areas.\n",
    "- Number of rooms is positively correlated with house value, which makes sense.\n",
    "- Oxide concentration is positively correlated with old owner-occupied buildings. This could transitively imply that old houses are more centered around non-retail business areas (which is positively correlated with oxid emissions).\n",
    "- Distance from employeement centers is negatively correlated with propotion of non-retail business acres, oxide concentration, and proportion of owner-occupied buildings. This says towns away from employeement centers have more recent houses and less oxide concentration.\n",
    "- Prices of houses is negatively correlated with low status of population which makes much sense."
   ]
  },
  {
   "cell_type": "markdown",
   "id": "51f675dd",
   "metadata": {
    "id": "F5oXUDmoRKpz",
    "papermill": {
     "duration": 0.07695,
     "end_time": "2021-08-09T14:50:56.191214",
     "exception": false,
     "start_time": "2021-08-09T14:50:56.114264",
     "status": "completed"
    },
    "tags": []
   },
   "source": [
    "Now, we will visualize the relationship between the pairs of features having significant correlations."
   ]
  },
  {
   "cell_type": "markdown",
   "id": "e1ef2a15",
   "metadata": {
    "id": "QfOeI9ljHTQn",
    "papermill": {
     "duration": 0.076948,
     "end_time": "2021-08-09T14:50:56.345809",
     "exception": false,
     "start_time": "2021-08-09T14:50:56.268861",
     "status": "completed"
    },
    "tags": []
   },
   "source": [
    "### Visualizing the relationship between the features having significant correlations (> 0.7) "
   ]
  },
  {
   "cell_type": "code",
   "execution_count": 10,
   "id": "42d58f95",
   "metadata": {
    "execution": {
     "iopub.execute_input": "2021-08-09T14:50:56.521351Z",
     "iopub.status.busy": "2021-08-09T14:50:56.520574Z",
     "iopub.status.idle": "2021-08-09T14:50:56.714737Z",
     "shell.execute_reply": "2021-08-09T14:50:56.714087Z",
     "shell.execute_reply.started": "2021-08-09T14:38:55.570528Z"
    },
    "id": "Um10uS1zen-7",
    "papermill": {
     "duration": 0.290627,
     "end_time": "2021-08-09T14:50:56.714872",
     "exception": false,
     "start_time": "2021-08-09T14:50:56.424245",
     "status": "completed"
    },
    "scrolled": true,
    "tags": []
   },
   "outputs": [
    {
     "data": {
      "image/png": "[encoded data removed]",
      "text/plain": [
       "<Figure size 432x432 with 1 Axes>"
      ]
     },
     "metadata": {
      "needs_background": "light"
     },
     "output_type": "display_data"
    }
   ],
   "source": [
    "# scatterplot to visualize the relationship between NOX and INDUS\n",
    "plt.figure(figsize=(6, 6))\n",
    "sns.scatterplot(x=df['NOX'], y=df['INDUS'], data=df)\n",
    "plt.show()"
   ]
  },
  {
   "cell_type": "markdown",
   "id": "7c8edda3",
   "metadata": {
    "id": "1UztFyhXRAis",
    "papermill": {
     "duration": 0.07861,
     "end_time": "2021-08-09T14:50:56.872632",
     "exception": false,
     "start_time": "2021-08-09T14:50:56.794022",
     "status": "completed"
    },
    "tags": []
   },
   "source": [
    "**Observations:____** It appears that there is no pattern in this correlation between the two features."
   ]
  },
  {
   "cell_type": "code",
   "execution_count": 11,
   "id": "785c387f",
   "metadata": {
    "execution": {
     "iopub.execute_input": "2021-08-09T14:50:57.071411Z",
     "iopub.status.busy": "2021-08-09T14:50:57.070687Z",
     "iopub.status.idle": "2021-08-09T14:50:57.201094Z",
     "shell.execute_reply": "2021-08-09T14:50:57.200487Z",
     "shell.execute_reply.started": "2021-08-09T14:39:21.659102Z"
    },
    "id": "aSvLmh6mmEaN",
    "papermill": {
     "duration": 0.249666,
     "end_time": "2021-08-09T14:50:57.201237",
     "exception": false,
     "start_time": "2021-08-09T14:50:56.951571",
     "status": "completed"
    },
    "tags": []
   },
   "outputs": [
    {
     "data": {
      "image/png": "[encoded data removed]",
      "text/plain": [
       "<Figure size 432x432 with 1 Axes>"
      ]
     },
     "metadata": {
      "needs_background": "light"
     },
     "output_type": "display_data"
    }
   ],
   "source": [
    "# scatterplot to visualize the relationship between AGE and NOX\n",
    "plt.figure(figsize=(6, 6))\n",
    "sns.scatterplot(x=df['AGE'], y=df['NOX'], data=df)\n",
    "\n",
    "plt.show()"
   ]
  },
  {
   "cell_type": "markdown",
   "id": "65bff745",
   "metadata": {
    "id": "ognbRRh9RAiw",
    "papermill": {
     "duration": 0.078995,
     "end_time": "2021-08-09T14:50:57.360374",
     "exception": false,
     "start_time": "2021-08-09T14:50:57.281379",
     "status": "completed"
    },
    "tags": []
   },
   "source": [
    "**Observations:____**\n",
    "- The more proportion of owner-occupied units built prior to 1940 exist, the more oxides concentration. This implies that old owner-occupied houses are located in a geographical location closer to the oxide source than more recently-built houses."
   ]
  },
  {
   "cell_type": "code",
   "execution_count": 12,
   "id": "2af78aa8",
   "metadata": {
    "execution": {
     "iopub.execute_input": "2021-08-09T14:50:57.550904Z",
     "iopub.status.busy": "2021-08-09T14:50:57.543760Z",
     "iopub.status.idle": "2021-08-09T14:50:57.693620Z",
     "shell.execute_reply": "2021-08-09T14:50:57.692939Z",
     "shell.execute_reply.started": "2021-08-09T14:39:47.327984Z"
    },
    "id": "zOLrtRekmEaN",
    "papermill": {
     "duration": 0.254007,
     "end_time": "2021-08-09T14:50:57.693765",
     "exception": false,
     "start_time": "2021-08-09T14:50:57.439758",
     "status": "completed"
    },
    "tags": []
   },
   "outputs": [
    {
     "data": {
      "image/png": "[encoded data removed]",
      "text/plain": [
       "<Figure size 432x432 with 1 Axes>"
      ]
     },
     "metadata": {
      "needs_background": "light"
     },
     "output_type": "display_data"
    }
   ],
   "source": [
    "# scatterplot to visualize the relationship between DIS and NOX\n",
    "plt.figure(figsize=(6, 6))\n",
    "sns.scatterplot(y=df['NOX'], x=df['DIS'], data=df)\n",
    "\n",
    "plt.show()"
   ]
  },
  {
   "cell_type": "markdown",
   "id": "65b4d9fb",
   "metadata": {
    "id": "XqQUKc0RRAiy",
    "papermill": {
     "duration": 0.080739,
     "end_time": "2021-08-09T14:50:57.854915",
     "exception": false,
     "start_time": "2021-08-09T14:50:57.774176",
     "status": "completed"
    },
    "tags": []
   },
   "source": [
    "**Observations:___**\n",
    "- The distant the house is from employeement centers, the less oxide concentration is there. This implies that empolyeement centers location is where the oxid source lies"
   ]
  },
  {
   "cell_type": "code",
   "execution_count": 13,
   "id": "f4ce73ae",
   "metadata": {
    "execution": {
     "iopub.execute_input": "2021-08-09T14:50:58.050208Z",
     "iopub.status.busy": "2021-08-09T14:50:58.049489Z",
     "iopub.status.idle": "2021-08-09T14:50:58.194123Z",
     "shell.execute_reply": "2021-08-09T14:50:58.193446Z",
     "shell.execute_reply.started": "2021-08-09T14:40:08.814976Z"
    },
    "id": "nkhvfnQ0mEaN",
    "outputId": "b1d10228-34be-42ac-f232-ebc945b591a8",
    "papermill": {
     "duration": 0.25705,
     "end_time": "2021-08-09T14:50:58.194270",
     "exception": false,
     "start_time": "2021-08-09T14:50:57.937220",
     "status": "completed"
    },
    "tags": []
   },
   "outputs": [
    {
     "data": {
      "image/png": "[encoded data removed]",
      "text/plain": [
       "<Figure size 432x432 with 1 Axes>"
      ]
     },
     "metadata": {
      "needs_background": "light"
     },
     "output_type": "display_data"
    }
   ],
   "source": [
    "# scatterplot to visualize the relationship between AGE and DIS\n",
    "plt.figure(figsize=(6, 6))\n",
    "sns.scatterplot(x = 'AGE', y = 'DIS', data = df)\n",
    "plt.show()"
   ]
  },
  {
   "cell_type": "markdown",
   "id": "77a9d6b5",
   "metadata": {
    "id": "hyCzhvWqRAi0",
    "papermill": {
     "duration": 0.085497,
     "end_time": "2021-08-09T14:50:58.363279",
     "exception": false,
     "start_time": "2021-08-09T14:50:58.277782",
     "status": "completed"
    },
    "tags": []
   },
   "source": [
    "- The distance of the houses to the Boston employment centers appears to decrease moderately as the the proportion of the old houses increase in the town. It is possible that the Boston employment centers are located in the established towns where proportion of owner-occupied units built prior to 1940 is comparatively high.\n",
    "\n",
    "- This, along with the previous observations, support the assumption that old owner-occupied houses are closer to employeement centers and employeement centers are emitting oxides."
   ]
  },
  {
   "cell_type": "code",
   "execution_count": 14,
   "id": "878995db",
   "metadata": {
    "execution": {
     "iopub.execute_input": "2021-08-09T14:50:58.568061Z",
     "iopub.status.busy": "2021-08-09T14:50:58.557682Z",
     "iopub.status.idle": "2021-08-09T14:50:58.702065Z",
     "shell.execute_reply": "2021-08-09T14:50:58.701492Z",
     "shell.execute_reply.started": "2021-08-09T14:40:38.268797Z"
    },
    "id": "NWGsd6b6mEaO",
    "outputId": "5755c58f-dab8-40e9-e6f7-d96d8d38309c",
    "papermill": {
     "duration": 0.256835,
     "end_time": "2021-08-09T14:50:58.702225",
     "exception": false,
     "start_time": "2021-08-09T14:50:58.445390",
     "status": "completed"
    },
    "tags": []
   },
   "outputs": [
    {
     "data": {
      "image/png": "[encoded data removed]",
      "text/plain": [
       "<Figure size 432x432 with 1 Axes>"
      ]
     },
     "metadata": {
      "needs_background": "light"
     },
     "output_type": "display_data"
    }
   ],
   "source": [
    "# scatterplot to visualize the relationship between AGE and INDUS\n",
    "plt.figure(figsize=(6, 6))\n",
    "sns.scatterplot(x = 'AGE', y = 'INDUS', data = df)\n",
    "plt.show()"
   ]
  },
  {
   "cell_type": "markdown",
   "id": "1e93d524",
   "metadata": {
    "id": "pJONR4x_RAi3",
    "papermill": {
     "duration": 0.082779,
     "end_time": "2021-08-09T14:50:58.868560",
     "exception": false,
     "start_time": "2021-08-09T14:50:58.785781",
     "status": "completed"
    },
    "tags": []
   },
   "source": [
    "* No trend between the two variables is visible in the above plot."
   ]
  },
  {
   "cell_type": "code",
   "execution_count": 15,
   "id": "dc3ad29d",
   "metadata": {
    "execution": {
     "iopub.execute_input": "2021-08-09T14:50:59.065534Z",
     "iopub.status.busy": "2021-08-09T14:50:59.047250Z",
     "iopub.status.idle": "2021-08-09T14:50:59.210867Z",
     "shell.execute_reply": "2021-08-09T14:50:59.209669Z",
     "shell.execute_reply.started": "2021-08-09T14:40:43.548808Z"
    },
    "id": "lqiKHTqFmEaO",
    "outputId": "05d8dc6e-d124-4ad6-8caf-4a8614a320be",
    "papermill": {
     "duration": 0.259229,
     "end_time": "2021-08-09T14:50:59.211055",
     "exception": false,
     "start_time": "2021-08-09T14:50:58.951826",
     "status": "completed"
    },
    "tags": []
   },
   "outputs": [
    {
     "data": {
      "image/png": "[encoded data removed]",
      "text/plain": [
       "<Figure size 432x432 with 1 Axes>"
      ]
     },
     "metadata": {
      "needs_background": "light"
     },
     "output_type": "display_data"
    }
   ],
   "source": [
    "# scatterplot to visulaize the relationship between RAD and TAX\n",
    "plt.figure(figsize=(6, 6))\n",
    "sns.scatterplot(x = 'RAD', y = 'TAX', data = df)\n",
    "plt.show()"
   ]
  },
  {
   "cell_type": "markdown",
   "id": "58e0ed8e",
   "metadata": {
    "id": "mjNld1nnRAi6",
    "papermill": {
     "duration": 0.083666,
     "end_time": "2021-08-09T14:50:59.378746",
     "exception": false,
     "start_time": "2021-08-09T14:50:59.295080",
     "status": "completed"
    },
    "tags": []
   },
   "source": [
    "The correlation between RAD and TAX is very high. But, no trend is visible between the two variables. \n",
    "This might be due to outliers. "
   ]
  },
  {
   "cell_type": "markdown",
   "id": "c53276ae",
   "metadata": {
    "id": "8OBx_RTZAYN7",
    "papermill": {
     "duration": 0.085123,
     "end_time": "2021-08-09T14:50:59.548217",
     "exception": false,
     "start_time": "2021-08-09T14:50:59.463094",
     "status": "completed"
    },
    "tags": []
   },
   "source": [
    "Let's check the correlation after removing the outliers."
   ]
  },
  {
   "cell_type": "code",
   "execution_count": 16,
   "id": "befe46ac",
   "metadata": {
    "execution": {
     "iopub.execute_input": "2021-08-09T14:50:59.729659Z",
     "iopub.status.busy": "2021-08-09T14:50:59.728639Z",
     "iopub.status.idle": "2021-08-09T14:50:59.748648Z",
     "shell.execute_reply": "2021-08-09T14:50:59.749469Z",
     "shell.execute_reply.started": "2021-08-09T14:40:49.109892Z"
    },
    "id": "2qTskuPLRKp2",
    "outputId": "b18aad4b-4c23-4d05-c29d-94a5fb6be56a",
    "papermill": {
     "duration": 0.116237,
     "end_time": "2021-08-09T14:50:59.749732",
     "exception": false,
     "start_time": "2021-08-09T14:50:59.633495",
     "status": "completed"
    },
    "tags": []
   },
   "outputs": [
    {
     "name": "stdout",
     "output_type": "stream",
     "text": [
      "The correlation between TAX and RAD is 0.24975731331429196\n"
     ]
    }
   ],
   "source": [
    "# remove the data corresponding to high tax rate\n",
    "df1 = df[df['TAX'] < 600]\n",
    "# import the required function\n",
    "from scipy.stats import pearsonr\n",
    "# calculate the correlation\n",
    "print('The correlation between TAX and RAD is', pearsonr(df1['TAX'], df1['RAD'])[0])"
   ]
  },
  {
   "cell_type": "markdown",
   "id": "b0473b23",
   "metadata": {
    "id": "Rib48gHhRKp2",
    "papermill": {
     "duration": 0.091464,
     "end_time": "2021-08-09T14:50:59.940177",
     "exception": false,
     "start_time": "2021-08-09T14:50:59.848713",
     "status": "completed"
    },
    "tags": []
   },
   "source": [
    "So the high correlation between TAX and RAD is due to the outliers. The tax rate for some properties might be higher due to some other reason."
   ]
  },
  {
   "cell_type": "code",
   "execution_count": 17,
   "id": "aa7846ab",
   "metadata": {
    "execution": {
     "iopub.execute_input": "2021-08-09T14:51:00.137824Z",
     "iopub.status.busy": "2021-08-09T14:51:00.137129Z",
     "iopub.status.idle": "2021-08-09T14:51:00.317460Z",
     "shell.execute_reply": "2021-08-09T14:51:00.316444Z",
     "shell.execute_reply.started": "2021-08-09T14:40:54.953557Z"
    },
    "id": "n5ddxR8JmEaO",
    "outputId": "9fd2ee8b-b184-4408-eab2-104bb33c463b",
    "papermill": {
     "duration": 0.272648,
     "end_time": "2021-08-09T14:51:00.317682",
     "exception": false,
     "start_time": "2021-08-09T14:51:00.045034",
     "status": "completed"
    },
    "scrolled": true,
    "tags": []
   },
   "outputs": [
    {
     "data": {
      "image/png": "[encoded data removed]",
      "text/plain": [
       "<Figure size 432x432 with 1 Axes>"
      ]
     },
     "metadata": {
      "needs_background": "light"
     },
     "output_type": "display_data"
    }
   ],
   "source": [
    "# scatterplot to visualize the relationship between INDUS and TAX\n",
    "plt.figure(figsize=(6, 6))\n",
    "sns.scatterplot(x = 'INDUS', y = 'TAX', data = df)\n",
    "plt.show()"
   ]
  },
  {
   "cell_type": "markdown",
   "id": "394f7f7e",
   "metadata": {
    "id": "8laYzUIURKp3",
    "papermill": {
     "duration": 0.087629,
     "end_time": "2021-08-09T14:51:00.499101",
     "exception": false,
     "start_time": "2021-08-09T14:51:00.411472",
     "status": "completed"
    },
    "tags": []
   },
   "source": [
    "* The tax rate appears to increase with an increase in the proportion of non-retail business acres per town. This might be due to the reason that the variables TAX and INDUS are related with a third variable."
   ]
  },
  {
   "cell_type": "code",
   "execution_count": 18,
   "id": "f0127067",
   "metadata": {
    "execution": {
     "iopub.execute_input": "2021-08-09T14:51:00.680804Z",
     "iopub.status.busy": "2021-08-09T14:51:00.679717Z",
     "iopub.status.idle": "2021-08-09T14:51:00.842881Z",
     "shell.execute_reply": "2021-08-09T14:51:00.842292Z",
     "shell.execute_reply.started": "2021-08-09T14:41:01.874720Z"
    },
    "id": "FwoalWG-mEaO",
    "outputId": "b8f7b8a8-a1ca-4024-efa3-1b2d7de9e7b4",
    "papermill": {
     "duration": 0.258825,
     "end_time": "2021-08-09T14:51:00.843037",
     "exception": false,
     "start_time": "2021-08-09T14:51:00.584212",
     "status": "completed"
    },
    "scrolled": true,
    "tags": []
   },
   "outputs": [
    {
     "data": {
      "image/png": "[encoded data removed]",
      "text/plain": [
       "<Figure size 432x432 with 1 Axes>"
      ]
     },
     "metadata": {
      "needs_background": "light"
     },
     "output_type": "display_data"
    }
   ],
   "source": [
    "# scatterplot to visulaize the relationship between RM and MEDV\n",
    "plt.figure(figsize=(6, 6))\n",
    "sns.scatterplot(x = 'RM', y = 'MEDV', data = df)\n",
    "plt.show()"
   ]
  },
  {
   "cell_type": "markdown",
   "id": "c06f049d",
   "metadata": {
    "id": "AkZn_JOURKp3",
    "papermill": {
     "duration": 0.087948,
     "end_time": "2021-08-09T14:51:01.018379",
     "exception": false,
     "start_time": "2021-08-09T14:51:00.930431",
     "status": "completed"
    },
    "tags": []
   },
   "source": [
    "* The price of the house seems to increase as the value of RM increases. This is expected as the price is generally higher for more rooms.\n",
    "\n",
    "* There are a few outliers in a horizotal line as the MEDV value seems to be capped at 50."
   ]
  },
  {
   "cell_type": "code",
   "execution_count": 19,
   "id": "df7849b5",
   "metadata": {
    "execution": {
     "iopub.execute_input": "2021-08-09T14:51:01.220150Z",
     "iopub.status.busy": "2021-08-09T14:51:01.206572Z",
     "iopub.status.idle": "2021-08-09T14:51:01.377951Z",
     "shell.execute_reply": "2021-08-09T14:51:01.377262Z",
     "shell.execute_reply.started": "2021-08-09T14:41:08.695042Z"
    },
    "id": "dh3dblT9mEaP",
    "outputId": "ccb46764-3095-4952-9d2a-3582ae6bde41",
    "papermill": {
     "duration": 0.269985,
     "end_time": "2021-08-09T14:51:01.378110",
     "exception": false,
     "start_time": "2021-08-09T14:51:01.108125",
     "status": "completed"
    },
    "scrolled": true,
    "tags": []
   },
   "outputs": [
    {
     "data": {
      "image/png": "[encoded data removed]",
      "text/plain": [
       "<Figure size 432x432 with 1 Axes>"
      ]
     },
     "metadata": {
      "needs_background": "light"
     },
     "output_type": "display_data"
    }
   ],
   "source": [
    "# scatterplot to visulaize the relationship between LSTAT and MEDV\n",
    "plt.figure(figsize=(6, 6))\n",
    "sns.scatterplot(x = 'LSTAT', y = 'MEDV', data = df)\n",
    "plt.show()"
   ]
  },
  {
   "cell_type": "markdown",
   "id": "2151fda0",
   "metadata": {
    "id": "MgcUFLZgmEaP",
    "papermill": {
     "duration": 0.088779,
     "end_time": "2021-08-09T14:51:01.556465",
     "exception": false,
     "start_time": "2021-08-09T14:51:01.467686",
     "status": "completed"
    },
    "tags": []
   },
   "source": [
    "* The price of the house tends to decrease with an increase in LSTAT. This is also possible as the house price is lower in areas where lower status people live.\n",
    "\n",
    "* There are few outliers and the data seems to be capped at 50."
   ]
  },
  {
   "cell_type": "markdown",
   "id": "40a675fd",
   "metadata": {
    "id": "q2Gowz5GRKp4",
    "papermill": {
     "duration": 0.088614,
     "end_time": "2021-08-09T14:51:01.732957",
     "exception": false,
     "start_time": "2021-08-09T14:51:01.644343",
     "status": "completed"
    },
    "tags": []
   },
   "source": [
    "We have seen that the variables LSTAT and RM have a linear relationship with the dependent variable MEDV. Also, there are significant relationships among a few independent variables, which is not desirable for a linear regression model. Let's first split the dataset."
   ]
  },
  {
   "cell_type": "markdown",
   "id": "fafa2bf9",
   "metadata": {
    "id": "tdPzLNVRHTQ2",
    "papermill": {
     "duration": 0.089279,
     "end_time": "2021-08-09T14:51:01.915518",
     "exception": false,
     "start_time": "2021-08-09T14:51:01.826239",
     "status": "completed"
    },
    "tags": []
   },
   "source": [
    "### Split the dataset\n",
    "Let's split the data into the dependent and independent variables and further split it into train and test set in a ratio of 70:30 for train and test set."
   ]
  },
  {
   "cell_type": "code",
   "execution_count": 20,
   "id": "487339d0",
   "metadata": {
    "execution": {
     "iopub.execute_input": "2021-08-09T14:51:02.102518Z",
     "iopub.status.busy": "2021-08-09T14:51:02.101800Z",
     "iopub.status.idle": "2021-08-09T14:51:02.111374Z",
     "shell.execute_reply": "2021-08-09T14:51:02.110677Z",
     "shell.execute_reply.started": "2021-08-09T14:41:19.549580Z"
    },
    "id": "beebRRkvHTQ3",
    "papermill": {
     "duration": 0.108145,
     "end_time": "2021-08-09T14:51:02.111521",
     "exception": false,
     "start_time": "2021-08-09T14:51:02.003376",
     "status": "completed"
    },
    "tags": []
   },
   "outputs": [],
   "source": [
    "# separate the dependent and indepedent variable\n",
    "Y = df['MEDV_log']\n",
    "X = df.drop(columns = {'MEDV', 'MEDV_log'})\n",
    "\n",
    "# add the intercept term\n",
    "X = sm.add_constant(X)"
   ]
  },
  {
   "cell_type": "code",
   "execution_count": 21,
   "id": "53344650",
   "metadata": {
    "execution": {
     "iopub.execute_input": "2021-08-09T14:51:02.299764Z",
     "iopub.status.busy": "2021-08-09T14:51:02.299074Z",
     "iopub.status.idle": "2021-08-09T14:51:02.302290Z",
     "shell.execute_reply": "2021-08-09T14:51:02.302774Z",
     "shell.execute_reply.started": "2021-08-09T14:41:21.768595Z"
    },
    "id": "JRFWKGdpHTQ5",
    "papermill": {
     "duration": 0.102911,
     "end_time": "2021-08-09T14:51:02.302970",
     "exception": false,
     "start_time": "2021-08-09T14:51:02.200059",
     "status": "completed"
    },
    "tags": []
   },
   "outputs": [],
   "source": [
    "# splitting the data in 70:30 ratio of train to test data\n",
    "X_train, X_test, y_train, y_test = train_test_split(X, Y, test_size=0.30 , random_state=1)"
   ]
  },
  {
   "cell_type": "markdown",
   "id": "15b050cf",
   "metadata": {
    "id": "CGhbeT42mEaQ",
    "papermill": {
     "duration": 0.088032,
     "end_time": "2021-08-09T14:51:02.479256",
     "exception": false,
     "start_time": "2021-08-09T14:51:02.391224",
     "status": "completed"
    },
    "tags": []
   },
   "source": [
    "Next, we will check the multicollinearity in the train dataset."
   ]
  },
  {
   "cell_type": "markdown",
   "id": "0672d6a0",
   "metadata": {
    "id": "35V8i1tVRKp5",
    "papermill": {
     "duration": 0.087708,
     "end_time": "2021-08-09T14:51:02.654889",
     "exception": false,
     "start_time": "2021-08-09T14:51:02.567181",
     "status": "completed"
    },
    "tags": []
   },
   "source": [
    "### Check for Multicollinearity\n",
    "\n",
    "We will use the Variance Inflation Factor (VIF), to check if there is multicollinearity in the data.\n",
    "\n",
    "Features having a VIF score > 5 will be dropped/treated till all the features have a VIF score < 5"
   ]
  },
  {
   "cell_type": "code",
   "execution_count": 22,
   "id": "3e425d6d",
   "metadata": {
    "execution": {
     "iopub.execute_input": "2021-08-09T14:51:02.838620Z",
     "iopub.status.busy": "2021-08-09T14:51:02.837858Z",
     "iopub.status.idle": "2021-08-09T14:51:02.869423Z",
     "shell.execute_reply": "2021-08-09T14:51:02.869934Z",
     "shell.execute_reply.started": "2021-08-09T14:41:29.358226Z"
    },
    "id": "Dy-mv-XrmEaU",
    "outputId": "13351efd-3eb5-4353-e20f-89dd0b665b86",
    "papermill": {
     "duration": 0.126542,
     "end_time": "2021-08-09T14:51:02.870130",
     "exception": false,
     "start_time": "2021-08-09T14:51:02.743588",
     "status": "completed"
    },
    "tags": []
   },
   "outputs": [
    {
     "name": "stdout",
     "output_type": "stream",
     "text": [
      "    feature         VIF\n",
      "0     const  585.099960\n",
      "1      CRIM    1.993439\n",
      "2        ZN    2.743911\n",
      "3     INDUS    4.004462\n",
      "4      CHAS    1.078490\n",
      "5       NOX    4.430555\n",
      "6        RM    1.879494\n",
      "7       AGE    3.155351\n",
      "8       DIS    4.361514\n",
      "9       RAD    8.369185\n",
      "10      TAX   10.194047\n",
      "11  PTRATIO    1.948555\n",
      "12        B    1.385213\n",
      "13    LSTAT    2.926462\n"
     ]
    }
   ],
   "source": [
    "from statsmodels.stats.outliers_influence import variance_inflation_factor\n",
    "\n",
    "# function to check VIF\n",
    "def checking_vif(train):\n",
    "    vif = pd.DataFrame()\n",
    "    vif[\"feature\"] = train.columns\n",
    "\n",
    "    # calculating VIF for each feature\n",
    "    vif[\"VIF\"] = [\n",
    "        variance_inflation_factor(train.values, i) for i in range(len(train.columns))\n",
    "    ]\n",
    "    return vif\n",
    "\n",
    "\n",
    "print(checking_vif(X_train))"
   ]
  },
  {
   "cell_type": "markdown",
   "id": "ac638aa5",
   "metadata": {
    "id": "9oPR2ihWmEaU",
    "papermill": {
     "duration": 0.090645,
     "end_time": "2021-08-09T14:51:03.056872",
     "exception": false,
     "start_time": "2021-08-09T14:51:02.966227",
     "status": "completed"
    },
    "tags": []
   },
   "source": [
    "* There are two variables with a high VIF - RAD and TAX. Let's remove TAX as it has the highest VIF values and check the multicollinearity again."
   ]
  },
  {
   "cell_type": "markdown",
   "id": "0d44a8c4",
   "metadata": {
    "id": "6vXnOaY2kWG_",
    "papermill": {
     "duration": 0.087477,
     "end_time": "2021-08-09T14:51:03.235122",
     "exception": false,
     "start_time": "2021-08-09T14:51:03.147645",
     "status": "completed"
    },
    "tags": []
   },
   "source": [
    "### Drop the column 'TAX' from the training data and check if multicollinearity is removed"
   ]
  },
  {
   "cell_type": "code",
   "execution_count": 23,
   "id": "c03e91fc",
   "metadata": {
    "execution": {
     "iopub.execute_input": "2021-08-09T14:51:03.421550Z",
     "iopub.status.busy": "2021-08-09T14:51:03.420719Z",
     "iopub.status.idle": "2021-08-09T14:51:03.442425Z",
     "shell.execute_reply": "2021-08-09T14:51:03.441832Z",
     "shell.execute_reply.started": "2021-08-09T14:42:00.553208Z"
    },
    "id": "HD8YQ9GlRKp5",
    "papermill": {
     "duration": 0.118644,
     "end_time": "2021-08-09T14:51:03.442568",
     "exception": false,
     "start_time": "2021-08-09T14:51:03.323924",
     "status": "completed"
    },
    "tags": []
   },
   "outputs": [
    {
     "name": "stdout",
     "output_type": "stream",
     "text": [
      "    feature         VIF\n",
      "0     const  581.372515\n",
      "1      CRIM    1.992236\n",
      "2        ZN    2.483521\n",
      "3     INDUS    3.277778\n",
      "4      CHAS    1.052841\n",
      "5       NOX    4.397232\n",
      "6        RM    1.876243\n",
      "7       AGE    3.154114\n",
      "8       DIS    4.339453\n",
      "9       RAD    2.978247\n",
      "10  PTRATIO    1.914523\n",
      "11        B    1.384927\n",
      "12    LSTAT    2.924524\n"
     ]
    }
   ],
   "source": [
    "# create the model after dropping TAX\n",
    "X_train = X_train.drop(['TAX'],1)\n",
    "\n",
    "# check for VIF\n",
    "print(checking_vif(X_train))"
   ]
  },
  {
   "cell_type": "markdown",
   "id": "f6a04dbd",
   "metadata": {
    "id": "bPxryqE7RKp6",
    "papermill": {
     "duration": 0.088357,
     "end_time": "2021-08-09T14:51:03.622103",
     "exception": false,
     "start_time": "2021-08-09T14:51:03.533746",
     "status": "completed"
    },
    "tags": []
   },
   "source": [
    "Now, we will create the linear regression model as the VIF is less than 5 for all the independent variables, and we can assume that multicollinearity has been removed between the variables."
   ]
  },
  {
   "cell_type": "markdown",
   "id": "84718e05",
   "metadata": {
    "id": "Pqm-fpjUkrtt",
    "papermill": {
     "duration": 0.089205,
     "end_time": "2021-08-09T14:51:03.800150",
     "exception": false,
     "start_time": "2021-08-09T14:51:03.710945",
     "status": "completed"
    },
    "tags": []
   },
   "source": [
    "### Create the linear regression model using statsmodels OLS and print the model summary."
   ]
  },
  {
   "cell_type": "code",
   "execution_count": 24,
   "id": "6eed191a",
   "metadata": {
    "execution": {
     "iopub.execute_input": "2021-08-09T14:51:03.982666Z",
     "iopub.status.busy": "2021-08-09T14:51:03.981958Z",
     "iopub.status.idle": "2021-08-09T14:51:04.008908Z",
     "shell.execute_reply": "2021-08-09T14:51:04.009497Z",
     "shell.execute_reply.started": "2021-08-09T14:42:20.984093Z"
    },
    "id": "jwDjEfcBjyV7",
    "papermill": {
     "duration": 0.11921,
     "end_time": "2021-08-09T14:51:04.009681",
     "exception": false,
     "start_time": "2021-08-09T14:51:03.890471",
     "status": "completed"
    },
    "tags": []
   },
   "outputs": [
    {
     "data": {
      "text/html": [
       "<table class=\"simpletable\">\n",
       "<caption>OLS Regression Results</caption>\n",
       "<tr>\n",
       "  <th>Dep. Variable:</th>        <td>MEDV_log</td>     <th>  R-squared:         </th> <td>   0.771</td> \n",
       "</tr>\n",
       "<tr>\n",
       "  <th>Model:</th>                   <td>OLS</td>       <th>  Adj. R-squared:    </th> <td>   0.763</td> \n",
       "</tr>\n",
       "<tr>\n",
       "  <th>Method:</th>             <td>Least Squares</td>  <th>  F-statistic:       </th> <td>   95.56</td> \n",
       "</tr>\n",
       "<tr>\n",
       "  <th>Date:</th>             <td>Mon, 09 Aug 2021</td> <th>  Prob (F-statistic):</th> <td>2.97e-101</td>\n",
       "</tr>\n",
       "<tr>\n",
       "  <th>Time:</th>                 <td>14:51:03</td>     <th>  Log-Likelihood:    </th> <td>  78.262</td> \n",
       "</tr>\n",
       "<tr>\n",
       "  <th>No. Observations:</th>      <td>   354</td>      <th>  AIC:               </th> <td>  -130.5</td> \n",
       "</tr>\n",
       "<tr>\n",
       "  <th>Df Residuals:</th>          <td>   341</td>      <th>  BIC:               </th> <td>  -80.22</td> \n",
       "</tr>\n",
       "<tr>\n",
       "  <th>Df Model:</th>              <td>    12</td>      <th>                     </th>     <td> </td>    \n",
       "</tr>\n",
       "<tr>\n",
       "  <th>Covariance Type:</th>      <td>nonrobust</td>    <th>                     </th>     <td> </td>    \n",
       "</tr>\n",
       "</table>\n",
       "<table class=\"simpletable\">\n",
       "<tr>\n",
       "     <td></td>        <th>coef</th>     <th>std err</th>      <th>t</th>      <th>P>|t|</th>  <th>[0.025</th>    <th>0.975]</th>  \n",
       "</tr>\n",
       "<tr>\n",
       "  <th>const</th>   <td>    4.4999</td> <td>    0.253</td> <td>   17.767</td> <td> 0.000</td> <td>    4.002</td> <td>    4.998</td>\n",
       "</tr>\n",
       "<tr>\n",
       "  <th>CRIM</th>    <td>   -0.0122</td> <td>    0.002</td> <td>   -7.005</td> <td> 0.000</td> <td>   -0.016</td> <td>   -0.009</td>\n",
       "</tr>\n",
       "<tr>\n",
       "  <th>ZN</th>      <td>    0.0010</td> <td>    0.001</td> <td>    1.417</td> <td> 0.157</td> <td>   -0.000</td> <td>    0.002</td>\n",
       "</tr>\n",
       "<tr>\n",
       "  <th>INDUS</th>   <td>   -0.0002</td> <td>    0.003</td> <td>   -0.066</td> <td> 0.947</td> <td>   -0.006</td> <td>    0.005</td>\n",
       "</tr>\n",
       "<tr>\n",
       "  <th>CHAS</th>    <td>    0.1164</td> <td>    0.039</td> <td>    3.008</td> <td> 0.003</td> <td>    0.040</td> <td>    0.193</td>\n",
       "</tr>\n",
       "<tr>\n",
       "  <th>NOX</th>     <td>   -1.0297</td> <td>    0.187</td> <td>   -5.509</td> <td> 0.000</td> <td>   -1.397</td> <td>   -0.662</td>\n",
       "</tr>\n",
       "<tr>\n",
       "  <th>RM</th>      <td>    0.0569</td> <td>    0.021</td> <td>    2.734</td> <td> 0.007</td> <td>    0.016</td> <td>    0.098</td>\n",
       "</tr>\n",
       "<tr>\n",
       "  <th>AGE</th>     <td>    0.0003</td> <td>    0.001</td> <td>    0.390</td> <td> 0.697</td> <td>   -0.001</td> <td>    0.002</td>\n",
       "</tr>\n",
       "<tr>\n",
       "  <th>DIS</th>     <td>   -0.0496</td> <td>    0.010</td> <td>   -4.841</td> <td> 0.000</td> <td>   -0.070</td> <td>   -0.029</td>\n",
       "</tr>\n",
       "<tr>\n",
       "  <th>RAD</th>     <td>    0.0080</td> <td>    0.002</td> <td>    3.885</td> <td> 0.000</td> <td>    0.004</td> <td>    0.012</td>\n",
       "</tr>\n",
       "<tr>\n",
       "  <th>PTRATIO</th> <td>   -0.0458</td> <td>    0.007</td> <td>   -6.762</td> <td> 0.000</td> <td>   -0.059</td> <td>   -0.033</td>\n",
       "</tr>\n",
       "<tr>\n",
       "  <th>B</th>       <td>    0.0002</td> <td>    0.000</td> <td>    1.796</td> <td> 0.073</td> <td>-2.35e-05</td> <td>    0.001</td>\n",
       "</tr>\n",
       "<tr>\n",
       "  <th>LSTAT</th>   <td>   -0.0291</td> <td>    0.002</td> <td>  -11.772</td> <td> 0.000</td> <td>   -0.034</td> <td>   -0.024</td>\n",
       "</tr>\n",
       "</table>\n",
       "<table class=\"simpletable\">\n",
       "<tr>\n",
       "  <th>Omnibus:</th>       <td>33.707</td> <th>  Durbin-Watson:     </th> <td>   1.924</td>\n",
       "</tr>\n",
       "<tr>\n",
       "  <th>Prob(Omnibus):</th> <td> 0.000</td> <th>  Jarque-Bera (JB):  </th> <td> 100.726</td>\n",
       "</tr>\n",
       "<tr>\n",
       "  <th>Skew:</th>          <td> 0.387</td> <th>  Prob(JB):          </th> <td>1.34e-22</td>\n",
       "</tr>\n",
       "<tr>\n",
       "  <th>Kurtosis:</th>      <td> 5.496</td> <th>  Cond. No.          </th> <td>1.01e+04</td>\n",
       "</tr>\n",
       "</table><br/><br/>Notes:<br/>[1] Standard Errors assume that the covariance matrix of the errors is correctly specified.<br/>[2] The condition number is large, 1.01e+04. This might indicate that there are<br/>strong multicollinearity or other numerical problems."
      ],
      "text/plain": [
       "<class 'statsmodels.iolib.summary.Summary'>\n",
       "\"\"\"\n",
       "                            OLS Regression Results                            \n",
       "==============================================================================\n",
       "Dep. Variable:               MEDV_log   R-squared:                       0.771\n",
       "Model:                            OLS   Adj. R-squared:                  0.763\n",
       "Method:                 Least Squares   F-statistic:                     95.56\n",
       "Date:                Mon, 09 Aug 2021   Prob (F-statistic):          2.97e-101\n",
       "Time:                        14:51:03   Log-Likelihood:                 78.262\n",
       "No. Observations:                 354   AIC:                            -130.5\n",
       "Df Residuals:                     341   BIC:                            -80.22\n",
       "Df Model:                          12                                         \n",
       "Covariance Type:            nonrobust                                         \n",
       "==============================================================================\n",
       "                 coef    std err          t      P>|t|      [0.025      0.975]\n",
       "------------------------------------------------------------------------------\n",
       "const          4.4999      0.253     17.767      0.000       4.002       4.998\n",
       "CRIM          -0.0122      0.002     -7.005      0.000      -0.016      -0.009\n",
       "ZN             0.0010      0.001      1.417      0.157      -0.000       0.002\n",
       "INDUS         -0.0002      0.003     -0.066      0.947      -0.006       0.005\n",
       "CHAS           0.1164      0.039      3.008      0.003       0.040       0.193\n",
       "NOX           -1.0297      0.187     -5.509      0.000      -1.397      -0.662\n",
       "RM             0.0569      0.021      2.734      0.007       0.016       0.098\n",
       "AGE            0.0003      0.001      0.390      0.697      -0.001       0.002\n",
       "DIS           -0.0496      0.010     -4.841      0.000      -0.070      -0.029\n",
       "RAD            0.0080      0.002      3.885      0.000       0.004       0.012\n",
       "PTRATIO       -0.0458      0.007     -6.762      0.000      -0.059      -0.033\n",
       "B              0.0002      0.000      1.796      0.073   -2.35e-05       0.001\n",
       "LSTAT         -0.0291      0.002    -11.772      0.000      -0.034      -0.024\n",
       "==============================================================================\n",
       "Omnibus:                       33.707   Durbin-Watson:                   1.924\n",
       "Prob(Omnibus):                  0.000   Jarque-Bera (JB):              100.726\n",
       "Skew:                           0.387   Prob(JB):                     1.34e-22\n",
       "Kurtosis:                       5.496   Cond. No.                     1.01e+04\n",
       "==============================================================================\n",
       "\n",
       "Notes:\n",
       "[1] Standard Errors assume that the covariance matrix of the errors is correctly specified.\n",
       "[2] The condition number is large, 1.01e+04. This might indicate that there are\n",
       "strong multicollinearity or other numerical problems.\n",
       "\"\"\""
      ]
     },
     "execution_count": 24,
     "metadata": {},
     "output_type": "execute_result"
    }
   ],
   "source": [
    "# create the model\n",
    "model1 = sm.OLS(y_train, X_train).fit()\n",
    "\n",
    "# get the model summary\n",
    "model1.summary()"
   ]
  },
  {
   "cell_type": "markdown",
   "id": "86c3ee82",
   "metadata": {
    "id": "Yde7rQQWRAjU",
    "papermill": {
     "duration": 0.090777,
     "end_time": "2021-08-09T14:51:04.191321",
     "exception": false,
     "start_time": "2021-08-09T14:51:04.100544",
     "status": "completed"
    },
    "tags": []
   },
   "source": [
    "**Observations:_____**\n",
    "- R square and adjusted R square values are large which gives a good level of confidence about the model.\n",
    "- Independent variables (ZN, AGE, and INDUS) have a high p-value and low t, which implies a minimum significance."
   ]
  },
  {
   "cell_type": "markdown",
   "id": "b435328a",
   "metadata": {
    "id": "HI70ISxilFbI",
    "papermill": {
     "duration": 0.089233,
     "end_time": "2021-08-09T14:51:04.369976",
     "exception": false,
     "start_time": "2021-08-09T14:51:04.280743",
     "status": "completed"
    },
    "tags": []
   },
   "source": [
    "### Drop insignificant variables from the above model and create the regression model again"
   ]
  },
  {
   "cell_type": "markdown",
   "id": "e3e60cce",
   "metadata": {
    "id": "-QIZkgXLmEaU",
    "papermill": {
     "duration": 0.089603,
     "end_time": "2021-08-09T14:51:04.548908",
     "exception": false,
     "start_time": "2021-08-09T14:51:04.459305",
     "status": "completed"
    },
    "tags": []
   },
   "source": [
    "### Examining the significance of the model\n",
    "\n",
    "It is not enough to fit a multiple regression model to the data, it is necessary to check whether all the regression coefficients are significant or not. Significance here means whether the population regression parameters are significantly different from zero. \n",
    "\n",
    "From the above it may be noted that the regression coefficients corresponding to ZN, AGE, and INDUS are not statistically significant at level α = 0.05. In other words, the regression coefficients corresponding to these three are not significantly different from 0 in the population. Hence, we will eliminate the three features and create a new model."
   ]
  },
  {
   "cell_type": "code",
   "execution_count": 25,
   "id": "029e7636",
   "metadata": {
    "execution": {
     "iopub.execute_input": "2021-08-09T14:51:04.732754Z",
     "iopub.status.busy": "2021-08-09T14:51:04.732112Z",
     "iopub.status.idle": "2021-08-09T14:51:04.763952Z",
     "shell.execute_reply": "2021-08-09T14:51:04.764508Z",
     "shell.execute_reply.started": "2021-08-09T14:43:21.344598Z"
    },
    "id": "MwsYfoPtRKp7",
    "papermill": {
     "duration": 0.124771,
     "end_time": "2021-08-09T14:51:04.764697",
     "exception": false,
     "start_time": "2021-08-09T14:51:04.639926",
     "status": "completed"
    },
    "tags": []
   },
   "outputs": [
    {
     "data": {
      "text/html": [
       "<table class=\"simpletable\">\n",
       "<caption>OLS Regression Results</caption>\n",
       "<tr>\n",
       "  <th>Dep. Variable:</th>        <td>MEDV_log</td>     <th>  R-squared:         </th> <td>   0.769</td> \n",
       "</tr>\n",
       "<tr>\n",
       "  <th>Model:</th>                   <td>OLS</td>       <th>  Adj. R-squared:    </th> <td>   0.763</td> \n",
       "</tr>\n",
       "<tr>\n",
       "  <th>Method:</th>             <td>Least Squares</td>  <th>  F-statistic:       </th> <td>   127.5</td> \n",
       "</tr>\n",
       "<tr>\n",
       "  <th>Date:</th>             <td>Mon, 09 Aug 2021</td> <th>  Prob (F-statistic):</th> <td>6.21e-104</td>\n",
       "</tr>\n",
       "<tr>\n",
       "  <th>Time:</th>                 <td>14:51:04</td>     <th>  Log-Likelihood:    </th> <td>  77.190</td> \n",
       "</tr>\n",
       "<tr>\n",
       "  <th>No. Observations:</th>      <td>   354</td>      <th>  AIC:               </th> <td>  -134.4</td> \n",
       "</tr>\n",
       "<tr>\n",
       "  <th>Df Residuals:</th>          <td>   344</td>      <th>  BIC:               </th> <td>  -95.69</td> \n",
       "</tr>\n",
       "<tr>\n",
       "  <th>Df Model:</th>              <td>     9</td>      <th>                     </th>     <td> </td>    \n",
       "</tr>\n",
       "<tr>\n",
       "  <th>Covariance Type:</th>      <td>nonrobust</td>    <th>                     </th>     <td> </td>    \n",
       "</tr>\n",
       "</table>\n",
       "<table class=\"simpletable\">\n",
       "<tr>\n",
       "     <td></td>        <th>coef</th>     <th>std err</th>      <th>t</th>      <th>P>|t|</th>  <th>[0.025</th>    <th>0.975]</th>  \n",
       "</tr>\n",
       "<tr>\n",
       "  <th>const</th>   <td>    4.5147</td> <td>    0.252</td> <td>   17.925</td> <td> 0.000</td> <td>    4.019</td> <td>    5.010</td>\n",
       "</tr>\n",
       "<tr>\n",
       "  <th>CRIM</th>    <td>   -0.0119</td> <td>    0.002</td> <td>   -6.909</td> <td> 0.000</td> <td>   -0.015</td> <td>   -0.009</td>\n",
       "</tr>\n",
       "<tr>\n",
       "  <th>CHAS</th>    <td>    0.1165</td> <td>    0.039</td> <td>    3.016</td> <td> 0.003</td> <td>    0.041</td> <td>    0.192</td>\n",
       "</tr>\n",
       "<tr>\n",
       "  <th>NOX</th>     <td>   -1.0234</td> <td>    0.168</td> <td>   -6.086</td> <td> 0.000</td> <td>   -1.354</td> <td>   -0.693</td>\n",
       "</tr>\n",
       "<tr>\n",
       "  <th>RM</th>      <td>    0.0622</td> <td>    0.020</td> <td>    3.089</td> <td> 0.002</td> <td>    0.023</td> <td>    0.102</td>\n",
       "</tr>\n",
       "<tr>\n",
       "  <th>DIS</th>     <td>   -0.0434</td> <td>    0.008</td> <td>   -5.488</td> <td> 0.000</td> <td>   -0.059</td> <td>   -0.028</td>\n",
       "</tr>\n",
       "<tr>\n",
       "  <th>RAD</th>     <td>    0.0083</td> <td>    0.002</td> <td>    4.092</td> <td> 0.000</td> <td>    0.004</td> <td>    0.012</td>\n",
       "</tr>\n",
       "<tr>\n",
       "  <th>PTRATIO</th> <td>   -0.0490</td> <td>    0.006</td> <td>   -7.936</td> <td> 0.000</td> <td>   -0.061</td> <td>   -0.037</td>\n",
       "</tr>\n",
       "<tr>\n",
       "  <th>B</th>       <td>    0.0002</td> <td>    0.000</td> <td>    1.824</td> <td> 0.069</td> <td>-1.95e-05</td> <td>    0.001</td>\n",
       "</tr>\n",
       "<tr>\n",
       "  <th>LSTAT</th>   <td>   -0.0287</td> <td>    0.002</td> <td>  -12.577</td> <td> 0.000</td> <td>   -0.033</td> <td>   -0.024</td>\n",
       "</tr>\n",
       "</table>\n",
       "<table class=\"simpletable\">\n",
       "<tr>\n",
       "  <th>Omnibus:</th>       <td>35.608</td> <th>  Durbin-Watson:     </th> <td>   1.927</td>\n",
       "</tr>\n",
       "<tr>\n",
       "  <th>Prob(Omnibus):</th> <td> 0.000</td> <th>  Jarque-Bera (JB):  </th> <td> 104.246</td>\n",
       "</tr>\n",
       "<tr>\n",
       "  <th>Skew:</th>          <td> 0.425</td> <th>  Prob(JB):          </th> <td>2.31e-23</td>\n",
       "</tr>\n",
       "<tr>\n",
       "  <th>Kurtosis:</th>      <td> 5.519</td> <th>  Cond. No.          </th> <td>9.76e+03</td>\n",
       "</tr>\n",
       "</table><br/><br/>Notes:<br/>[1] Standard Errors assume that the covariance matrix of the errors is correctly specified.<br/>[2] The condition number is large, 9.76e+03. This might indicate that there are<br/>strong multicollinearity or other numerical problems."
      ],
      "text/plain": [
       "<class 'statsmodels.iolib.summary.Summary'>\n",
       "\"\"\"\n",
       "                            OLS Regression Results                            \n",
       "==============================================================================\n",
       "Dep. Variable:               MEDV_log   R-squared:                       0.769\n",
       "Model:                            OLS   Adj. R-squared:                  0.763\n",
       "Method:                 Least Squares   F-statistic:                     127.5\n",
       "Date:                Mon, 09 Aug 2021   Prob (F-statistic):          6.21e-104\n",
       "Time:                        14:51:04   Log-Likelihood:                 77.190\n",
       "No. Observations:                 354   AIC:                            -134.4\n",
       "Df Residuals:                     344   BIC:                            -95.69\n",
       "Df Model:                           9                                         \n",
       "Covariance Type:            nonrobust                                         \n",
       "==============================================================================\n",
       "                 coef    std err          t      P>|t|      [0.025      0.975]\n",
       "------------------------------------------------------------------------------\n",
       "const          4.5147      0.252     17.925      0.000       4.019       5.010\n",
       "CRIM          -0.0119      0.002     -6.909      0.000      -0.015      -0.009\n",
       "CHAS           0.1165      0.039      3.016      0.003       0.041       0.192\n",
       "NOX           -1.0234      0.168     -6.086      0.000      -1.354      -0.693\n",
       "RM             0.0622      0.020      3.089      0.002       0.023       0.102\n",
       "DIS           -0.0434      0.008     -5.488      0.000      -0.059      -0.028\n",
       "RAD            0.0083      0.002      4.092      0.000       0.004       0.012\n",
       "PTRATIO       -0.0490      0.006     -7.936      0.000      -0.061      -0.037\n",
       "B              0.0002      0.000      1.824      0.069   -1.95e-05       0.001\n",
       "LSTAT         -0.0287      0.002    -12.577      0.000      -0.033      -0.024\n",
       "==============================================================================\n",
       "Omnibus:                       35.608   Durbin-Watson:                   1.927\n",
       "Prob(Omnibus):                  0.000   Jarque-Bera (JB):              104.246\n",
       "Skew:                           0.425   Prob(JB):                     2.31e-23\n",
       "Kurtosis:                       5.519   Cond. No.                     9.76e+03\n",
       "==============================================================================\n",
       "\n",
       "Notes:\n",
       "[1] Standard Errors assume that the covariance matrix of the errors is correctly specified.\n",
       "[2] The condition number is large, 9.76e+03. This might indicate that there are\n",
       "strong multicollinearity or other numerical problems.\n",
       "\"\"\""
      ]
     },
     "execution_count": 25,
     "metadata": {},
     "output_type": "execute_result"
    }
   ],
   "source": [
    "# create the model after dropping TAX\n",
    "Y = df['MEDV_log']\n",
    "\n",
    "#write your code here\n",
    "X = df.drop(columns = {'MEDV', 'MEDV_log', 'ZN', 'AGE', 'INDUS', 'TAX'}) \n",
    "X = sm.add_constant(X)\n",
    "\n",
    "#splitting the data in 70:30 ratio of train to test data\n",
    "X_train, X_test, y_train, y_test = train_test_split(X, Y, test_size=0.30 , random_state=1)\n",
    "\n",
    "# create the model\n",
    "model2 = sm.OLS(y_train, X_train).fit() \n",
    "\n",
    "# get the model summary\n",
    "model2.summary()"
   ]
  },
  {
   "cell_type": "markdown",
   "id": "3d06021e",
   "metadata": {
    "id": "5itYQa0zwtPa",
    "papermill": {
     "duration": 0.091613,
     "end_time": "2021-08-09T14:51:04.948874",
     "exception": false,
     "start_time": "2021-08-09T14:51:04.857261",
     "status": "completed"
    },
    "tags": []
   },
   "source": [
    "* We can see that the **R-squared value has decreased by 0.002**, since we have removed variables from the model, whereas the **adjusted R-squared value has increased by 0.001**, since we removed statistically insignificant variables only."
   ]
  },
  {
   "cell_type": "markdown",
   "id": "fdf065cb",
   "metadata": {
    "id": "vnntdbE8RKp8",
    "papermill": {
     "duration": 0.091619,
     "end_time": "2021-08-09T14:51:05.131889",
     "exception": false,
     "start_time": "2021-08-09T14:51:05.040270",
     "status": "completed"
    },
    "tags": []
   },
   "source": [
    "Now, we will check the linear regression assumptions."
   ]
  },
  {
   "cell_type": "markdown",
   "id": "c9748852",
   "metadata": {
    "id": "LRxnpWg3mEaR",
    "papermill": {
     "duration": 0.090428,
     "end_time": "2021-08-09T14:51:05.312997",
     "exception": false,
     "start_time": "2021-08-09T14:51:05.222569",
     "status": "completed"
    },
    "tags": []
   },
   "source": [
    "### Check the below linear regression assumptions\n",
    "\n",
    "1. **Mean of residuals should be 0**\n",
    "2. **No Heteroscedasticity**\n",
    "3. **Linearity of variables**\n",
    "4. **Normality of error terms**"
   ]
  },
  {
   "cell_type": "markdown",
   "id": "6efa4ef9",
   "metadata": {
    "id": "-QAPpLhrmEaV",
    "papermill": {
     "duration": 0.089447,
     "end_time": "2021-08-09T14:51:05.493399",
     "exception": false,
     "start_time": "2021-08-09T14:51:05.403952",
     "status": "completed"
    },
    "tags": []
   },
   "source": [
    "#### Check for mean residuals"
   ]
  },
  {
   "cell_type": "code",
   "execution_count": 26,
   "id": "ba5bba5e",
   "metadata": {
    "execution": {
     "iopub.execute_input": "2021-08-09T14:51:05.676192Z",
     "iopub.status.busy": "2021-08-09T14:51:05.675479Z",
     "iopub.status.idle": "2021-08-09T14:51:05.681409Z",
     "shell.execute_reply": "2021-08-09T14:51:05.681947Z",
     "shell.execute_reply.started": "2021-08-09T14:43:52.070045Z"
    },
    "id": "FeCX4j8vmEaV",
    "papermill": {
     "duration": 0.099122,
     "end_time": "2021-08-09T14:51:05.682144",
     "exception": false,
     "start_time": "2021-08-09T14:51:05.583022",
     "status": "completed"
    },
    "scrolled": true,
    "tags": []
   },
   "outputs": [
    {
     "data": {
      "text/plain": [
       "1.8698162917557014e-15"
      ]
     },
     "execution_count": 26,
     "metadata": {},
     "output_type": "execute_result"
    }
   ],
   "source": [
    "residuals = model2.resid\n",
    "residuals.mean()"
   ]
  },
  {
   "cell_type": "markdown",
   "id": "39837146",
   "metadata": {
    "id": "NvYEVyfQRAjh",
    "papermill": {
     "duration": 0.089556,
     "end_time": "2021-08-09T14:51:05.864946",
     "exception": false,
     "start_time": "2021-08-09T14:51:05.775390",
     "status": "completed"
    },
    "tags": []
   },
   "source": [
    "**Observations:____** Mean of residuals is close to zero, which supports the linear regression assumption."
   ]
  },
  {
   "cell_type": "markdown",
   "id": "49ef8a8c",
   "metadata": {
    "id": "df7sEIL0mEaW",
    "papermill": {
     "duration": 0.090374,
     "end_time": "2021-08-09T14:51:06.045358",
     "exception": false,
     "start_time": "2021-08-09T14:51:05.954984",
     "status": "completed"
    },
    "tags": []
   },
   "source": [
    "#### Check for homoscedasticity"
   ]
  },
  {
   "cell_type": "markdown",
   "id": "bf94182d",
   "metadata": {
    "id": "StSElLVFRKp9",
    "papermill": {
     "duration": 0.089675,
     "end_time": "2021-08-09T14:51:06.225417",
     "exception": false,
     "start_time": "2021-08-09T14:51:06.135742",
     "status": "completed"
    },
    "tags": []
   },
   "source": [
    "\n",
    "\n",
    "* Homoscedasticity - If the residuals are symmetrically distributed across the regression line, then the data is said to homoscedastic.\n",
    "\n",
    "* Heteroscedasticity- - If the residuals are not symmetrically distributed across the regression line, then the data is said to be heteroscedastic. In this case, the residuals can form a funnel shape or any other non-symmetrical shape.\n",
    "\n",
    "* We'll use `Goldfeldquandt Test` to test the following hypothesis with alpha = 0.05:\n",
    "\n",
    "    - Null hypothesis: Residuals are homoscedastic\n",
    "    - Alternate hypothesis: Residuals have heteroscedasticity"
   ]
  },
  {
   "cell_type": "code",
   "execution_count": 27,
   "id": "b18af818",
   "metadata": {
    "execution": {
     "iopub.execute_input": "2021-08-09T14:51:06.410650Z",
     "iopub.status.busy": "2021-08-09T14:51:06.409935Z",
     "iopub.status.idle": "2021-08-09T14:51:06.413788Z",
     "shell.execute_reply": "2021-08-09T14:51:06.414347Z",
     "shell.execute_reply.started": "2021-08-09T14:44:07.190306Z"
    },
    "id": "_4as-Efdd2Fn",
    "papermill": {
     "duration": 0.097843,
     "end_time": "2021-08-09T14:51:06.414522",
     "exception": false,
     "start_time": "2021-08-09T14:51:06.316679",
     "status": "completed"
    },
    "tags": []
   },
   "outputs": [],
   "source": [
    "from statsmodels.stats.diagnostic import het_white\n",
    "from statsmodels.compat import lzip\n",
    "import statsmodels.stats.api as sms"
   ]
  },
  {
   "cell_type": "code",
   "execution_count": 28,
   "id": "fa9a9c30",
   "metadata": {
    "execution": {
     "iopub.execute_input": "2021-08-09T14:51:06.597530Z",
     "iopub.status.busy": "2021-08-09T14:51:06.596876Z",
     "iopub.status.idle": "2021-08-09T14:51:06.604856Z",
     "shell.execute_reply": "2021-08-09T14:51:06.605484Z",
     "shell.execute_reply.started": "2021-08-09T14:44:13.750032Z"
    },
    "id": "kpFfPIdkmEaW",
    "papermill": {
     "duration": 0.10121,
     "end_time": "2021-08-09T14:51:06.605659",
     "exception": false,
     "start_time": "2021-08-09T14:51:06.504449",
     "status": "completed"
    },
    "tags": []
   },
   "outputs": [
    {
     "data": {
      "text/plain": [
       "[('F statistic', 1.0844138711700864), ('p-value', 0.30056482122464745)]"
      ]
     },
     "execution_count": 28,
     "metadata": {},
     "output_type": "execute_result"
    }
   ],
   "source": [
    "name = [\"F statistic\", \"p-value\"]\n",
    "test = sms.het_goldfeldquandt(y_train, X_train)\n",
    "lzip(name, test)"
   ]
  },
  {
   "cell_type": "markdown",
   "id": "7ec2403a",
   "metadata": {
    "id": "1TPhzwu6RAjm",
    "papermill": {
     "duration": 0.090251,
     "end_time": "2021-08-09T14:51:06.786289",
     "exception": false,
     "start_time": "2021-08-09T14:51:06.696038",
     "status": "completed"
    },
    "tags": []
   },
   "source": [
    "**Observations:____** P-value is greater than 0.05, so we fail to reject the null hypothesis. Meaning, the residuals have heteroscedasticity."
   ]
  },
  {
   "cell_type": "markdown",
   "id": "9d59ddc1",
   "metadata": {
    "id": "UzbnPofwmEaX",
    "papermill": {
     "duration": 0.092606,
     "end_time": "2021-08-09T14:51:06.969911",
     "exception": false,
     "start_time": "2021-08-09T14:51:06.877305",
     "status": "completed"
    },
    "tags": []
   },
   "source": [
    "#### Linearity of variables\n",
    "\n",
    "It states that the predictor variables must have a linear relation with the dependent variable.\n",
    "\n",
    "To test the assumption, we'll plot residuals and fitted values on a plot and ensure that residuals do not form a strong pattern. They should be randomly and uniformly scattered on the x-axis."
   ]
  },
  {
   "cell_type": "code",
   "execution_count": 29,
   "id": "0ae9824f",
   "metadata": {
    "execution": {
     "iopub.execute_input": "2021-08-09T14:51:07.160253Z",
     "iopub.status.busy": "2021-08-09T14:51:07.159579Z",
     "iopub.status.idle": "2021-08-09T14:51:07.384358Z",
     "shell.execute_reply": "2021-08-09T14:51:07.384921Z",
     "shell.execute_reply.started": "2021-08-09T14:44:37.179385Z"
    },
    "id": "UxjY8jyKmEaX",
    "outputId": "6226e309-cb8e-44b5-d961-bb6154949949",
    "papermill": {
     "duration": 0.319731,
     "end_time": "2021-08-09T14:51:07.385112",
     "exception": false,
     "start_time": "2021-08-09T14:51:07.065381",
     "status": "completed"
    },
    "scrolled": true,
    "tags": []
   },
   "outputs": [
    {
     "data": {
      "image/png": "[encoded data removed]",
      "text/plain": [
       "<Figure size 432x288 with 1 Axes>"
      ]
     },
     "metadata": {
      "needs_background": "light"
     },
     "output_type": "display_data"
    }
   ],
   "source": [
    "# predicted values\n",
    "fitted = model2.fittedvalues\n",
    "\n",
    "#sns.set_style(\"whitegrid\")\n",
    "sns.residplot(x = y_train, y = residuals , color=\"lightblue\", lowess=True) \n",
    "plt.xlabel(\"Fitted Values\")\n",
    "plt.ylabel(\"Residual\")\n",
    "plt.title(\"Residual PLOT\")\n",
    "plt.show()"
   ]
  },
  {
   "cell_type": "markdown",
   "id": "d9ed429a",
   "metadata": {
    "id": "rYWMZchHmEaX",
    "papermill": {
     "duration": 0.107928,
     "end_time": "2021-08-09T14:51:07.588428",
     "exception": false,
     "start_time": "2021-08-09T14:51:07.480500",
     "status": "completed"
    },
    "tags": []
   },
   "source": [
    "**Observatioins:_____** We can see that residuals are randomly and uniformly scattered."
   ]
  },
  {
   "cell_type": "markdown",
   "id": "5e15652d",
   "metadata": {
    "id": "s1UAjPqMmEaX",
    "papermill": {
     "duration": 0.091709,
     "end_time": "2021-08-09T14:51:07.772475",
     "exception": false,
     "start_time": "2021-08-09T14:51:07.680766",
     "status": "completed"
    },
    "tags": []
   },
   "source": [
    "#### Normality of error terms\n",
    "The residuals should be normally distributed."
   ]
  },
  {
   "cell_type": "code",
   "execution_count": 30,
   "id": "ee0d5147",
   "metadata": {
    "execution": {
     "iopub.execute_input": "2021-08-09T14:51:08.011428Z",
     "iopub.status.busy": "2021-08-09T14:51:08.010685Z",
     "iopub.status.idle": "2021-08-09T14:51:08.281088Z",
     "shell.execute_reply": "2021-08-09T14:51:08.281664Z",
     "shell.execute_reply.started": "2021-08-09T14:44:53.934098Z"
    },
    "id": "ZFHf71ewmEaX",
    "papermill": {
     "duration": 0.418085,
     "end_time": "2021-08-09T14:51:08.281845",
     "exception": false,
     "start_time": "2021-08-09T14:51:07.863760",
     "status": "completed"
    },
    "tags": []
   },
   "outputs": [
    {
     "data": {
      "text/plain": [
       "<AxesSubplot:ylabel='Count'>"
      ]
     },
     "execution_count": 30,
     "metadata": {},
     "output_type": "execute_result"
    },
    {
     "data": {
      "image/png": "[encoded data removed]",
      "text/plain": [
       "<Figure size 432x288 with 1 Axes>"
      ]
     },
     "metadata": {
      "needs_background": "light"
     },
     "output_type": "display_data"
    }
   ],
   "source": [
    "# Plot histogram of residuals\n",
    "sns.histplot(residuals, kde=True)"
   ]
  },
  {
   "cell_type": "code",
   "execution_count": 31,
   "id": "2c2a6d1f",
   "metadata": {
    "execution": {
     "iopub.execute_input": "2021-08-09T14:51:08.470987Z",
     "iopub.status.busy": "2021-08-09T14:51:08.470344Z",
     "iopub.status.idle": "2021-08-09T14:51:08.802679Z",
     "shell.execute_reply": "2021-08-09T14:51:08.803220Z",
     "shell.execute_reply.started": "2021-08-09T14:45:01.948524Z"
    },
    "id": "8aVhzXhEmEaY",
    "outputId": "4f867523-0e7c-410b-804b-158448e04367",
    "papermill": {
     "duration": 0.428666,
     "end_time": "2021-08-09T14:51:08.803398",
     "exception": false,
     "start_time": "2021-08-09T14:51:08.374732",
     "status": "completed"
    },
    "scrolled": true,
    "tags": []
   },
   "outputs": [
    {
     "data": {
      "image/png": "[encoded data removed]",
      "text/plain": [
       "<Figure size 432x288 with 1 Axes>"
      ]
     },
     "metadata": {
      "needs_background": "light"
     },
     "output_type": "display_data"
    }
   ],
   "source": [
    "# Plot q-q plot of residuals\n",
    "import pylab\n",
    "import scipy.stats as stats\n",
    "\n",
    "stats.probplot(residuals, dist=\"norm\", plot=pylab)\n",
    "plt.show()"
   ]
  },
  {
   "cell_type": "markdown",
   "id": "1b73b74c",
   "metadata": {
    "id": "bPo9UIlgRKp-",
    "papermill": {
     "duration": 0.095392,
     "end_time": "2021-08-09T14:51:08.993220",
     "exception": false,
     "start_time": "2021-08-09T14:51:08.897828",
     "status": "completed"
    },
    "tags": []
   },
   "source": [
    "**Observations:_____** We can see normality of distribution."
   ]
  },
  {
   "cell_type": "markdown",
   "id": "efe5e0d5",
   "metadata": {
    "id": "Q8q-edLJmEaR",
    "papermill": {
     "duration": 0.097043,
     "end_time": "2021-08-09T14:51:09.186535",
     "exception": false,
     "start_time": "2021-08-09T14:51:09.089492",
     "status": "completed"
    },
    "tags": []
   },
   "source": [
    "### Check the performance of the model on the train and test data set"
   ]
  },
  {
   "cell_type": "code",
   "execution_count": 32,
   "id": "dd65c38f",
   "metadata": {
    "execution": {
     "iopub.execute_input": "2021-08-09T14:51:09.378217Z",
     "iopub.status.busy": "2021-08-09T14:51:09.377396Z",
     "iopub.status.idle": "2021-08-09T14:51:09.398101Z",
     "shell.execute_reply": "2021-08-09T14:51:09.397442Z",
     "shell.execute_reply.started": "2021-08-09T14:45:29.059323Z"
    },
    "id": "b5_l2YusmEaR",
    "outputId": "32951568-7fc9-4e6f-c6ea-06a7d46f8c66",
    "papermill": {
     "duration": 0.117886,
     "end_time": "2021-08-09T14:51:09.398260",
     "exception": false,
     "start_time": "2021-08-09T14:51:09.280374",
     "status": "completed"
    },
    "scrolled": true,
    "tags": []
   },
   "outputs": [
    {
     "name": "stdout",
     "output_type": "stream",
     "text": [
      "    Data      RMSE       MAE      MAPE\n",
      "0  Train  0.194565  0.141729  4.919107\n",
      "1   Test  0.191732  0.146199  5.069304\n"
     ]
    }
   ],
   "source": [
    "# RMSE\n",
    "def rmse(predictions, targets):\n",
    "    return np.sqrt(((targets - predictions) ** 2).mean())\n",
    "\n",
    "\n",
    "# MAPE\n",
    "def mape(predictions, targets):\n",
    "    return np.mean(np.abs((targets - predictions)) / targets) * 100\n",
    "\n",
    "\n",
    "# MAE\n",
    "def mae(predictions, targets):\n",
    "    return np.mean(np.abs((targets - predictions)))\n",
    "\n",
    "\n",
    "# Model Performance on test and train data\n",
    "def model_pref(olsmodel, x_train, x_test):\n",
    "\n",
    "    # Insample Prediction\n",
    "    y_pred_train = olsmodel.predict(x_train)\n",
    "    y_observed_train = y_train\n",
    "\n",
    "    # Prediction on test data\n",
    "    y_pred_test = olsmodel.predict(x_test)\n",
    "    y_observed_test = y_test\n",
    "\n",
    "    print(\n",
    "        pd.DataFrame(\n",
    "            {\n",
    "                \"Data\": [\"Train\", \"Test\"],\n",
    "                \"RMSE\": [\n",
    "                    rmse(y_pred_train, y_observed_train),\n",
    "                    rmse(y_pred_test, y_observed_test),\n",
    "                ],\n",
    "                \"MAE\": [\n",
    "                    mae(y_pred_train, y_observed_train),\n",
    "                    mae(y_pred_test, y_observed_test),\n",
    "                ],\n",
    "                \"MAPE\": [\n",
    "                    mape(y_pred_train, y_observed_train),\n",
    "                    mape(y_pred_test, y_observed_test),\n",
    "                ],\n",
    "            }\n",
    "        )\n",
    "    )\n",
    "\n",
    "\n",
    "# Checking model performance\n",
    "model_pref(model2, X_train, X_test)"
   ]
  },
  {
   "cell_type": "markdown",
   "id": "d0e7ac83",
   "metadata": {
    "id": "nf9MNVkFRAjy",
    "papermill": {
     "duration": 0.094196,
     "end_time": "2021-08-09T14:51:09.587905",
     "exception": false,
     "start_time": "2021-08-09T14:51:09.493709",
     "status": "completed"
    },
    "tags": []
   },
   "source": [
    "**Observations:____**\n",
    "- In general, the low errors above give a positive impression about the model's accuracy.\n",
    "- We can see that the errors have increased slightly on the test data. This suggested further investigation to improve the performance on general data."
   ]
  },
  {
   "cell_type": "markdown",
   "id": "01cfb3c4",
   "metadata": {
    "id": "WexM8Ae2RKp_",
    "papermill": {
     "duration": 0.093919,
     "end_time": "2021-08-09T14:51:09.776201",
     "exception": false,
     "start_time": "2021-08-09T14:51:09.682282",
     "status": "completed"
    },
    "tags": []
   },
   "source": [
    "#### Apply cross validation to improve the model and evaluate it using different evaluation metrics"
   ]
  },
  {
   "cell_type": "code",
   "execution_count": 33,
   "id": "318b8d74",
   "metadata": {
    "execution": {
     "iopub.execute_input": "2021-08-09T14:51:09.978177Z",
     "iopub.status.busy": "2021-08-09T14:51:09.977389Z",
     "iopub.status.idle": "2021-08-09T14:51:10.180822Z",
     "shell.execute_reply": "2021-08-09T14:51:10.181359Z",
     "shell.execute_reply.started": "2021-08-09T14:46:05.453347Z"
    },
    "id": "rxh0bcTbRKp_",
    "papermill": {
     "duration": 0.310507,
     "end_time": "2021-08-09T14:51:10.181560",
     "exception": false,
     "start_time": "2021-08-09T14:51:09.871053",
     "status": "completed"
    },
    "tags": []
   },
   "outputs": [
    {
     "name": "stdout",
     "output_type": "stream",
     "text": [
      "RSquared: 0.726 (+/- 0.251)\n",
      "Mean Squared Error: 0.041 (+/- 0.024)\n"
     ]
    }
   ],
   "source": [
    "# import the required function\n",
    "\n",
    "from sklearn.model_selection import cross_val_score\n",
    "\n",
    "# build the regression model and \n",
    "linearregression = LinearRegression()                                    \n",
    "\n",
    "cv_Score11 = cross_val_score(linearregression, X_train, y_train, cv = 10)\n",
    "cv_Score12 = cross_val_score(linearregression, X_train, y_train, cv = 10, scoring = 'neg_mean_squared_error')                                \n",
    "\n",
    "\n",
    "print(\"RSquared: %0.3f (+/- %0.3f)\" % (cv_Score11.mean(), cv_Score11.std() * 2))\n",
    "print(\"Mean Squared Error: %0.3f (+/- %0.3f)\" % (-1*cv_Score12.mean(), cv_Score12.std() * 2))"
   ]
  },
  {
   "cell_type": "markdown",
   "id": "6afbf4c1",
   "metadata": {
    "id": "wGlElmnMRKp_",
    "papermill": {
     "duration": 0.09522,
     "end_time": "2021-08-09T14:51:10.374637",
     "exception": false,
     "start_time": "2021-08-09T14:51:10.279417",
     "status": "completed"
    },
    "tags": []
   },
   "source": [
    "- The R-squared on the cross validation is 0.729, whereas on the training dataset it was 0.769\n",
    "- And the MSE on cross validation is 0.041, whereas on the training dataset it was 0.038"
   ]
  },
  {
   "cell_type": "markdown",
   "id": "edbbba06",
   "metadata": {
    "id": "qWlw3A04RKp_",
    "papermill": {
     "duration": 0.094188,
     "end_time": "2021-08-09T14:51:10.563960",
     "exception": false,
     "start_time": "2021-08-09T14:51:10.469772",
     "status": "completed"
    },
    "tags": []
   },
   "source": [
    "We may want to reiterate the model building process again with new features or better feature engineering to increase the R-squared and decrease the MSE on cross validation."
   ]
  },
  {
   "cell_type": "markdown",
   "id": "941051b3",
   "metadata": {
    "id": "eGxg37x6HTRV",
    "papermill": {
     "duration": 0.095842,
     "end_time": "2021-08-09T14:51:10.755368",
     "exception": false,
     "start_time": "2021-08-09T14:51:10.659526",
     "status": "completed"
    },
    "tags": []
   },
   "source": [
    "### Get model Coefficients in a pandas dataframe with column 'Feature' having all the features and column 'Coefs' with all the corresponding Coefs. Write the regression equation."
   ]
  },
  {
   "cell_type": "code",
   "execution_count": 34,
   "id": "0f7ec287",
   "metadata": {
    "execution": {
     "iopub.execute_input": "2021-08-09T14:51:10.958603Z",
     "iopub.status.busy": "2021-08-09T14:51:10.957894Z",
     "iopub.status.idle": "2021-08-09T14:51:10.961822Z",
     "shell.execute_reply": "2021-08-09T14:51:10.962377Z",
     "shell.execute_reply.started": "2021-08-09T14:46:20.490232Z"
    },
    "id": "MqgvS0SXHTRW",
    "papermill": {
     "duration": 0.111949,
     "end_time": "2021-08-09T14:51:10.962564",
     "exception": false,
     "start_time": "2021-08-09T14:51:10.850615",
     "status": "completed"
    },
    "tags": []
   },
   "outputs": [
    {
     "data": {
      "text/html": [
       "<div>\n",
       "<style scoped>\n",
       "    .dataframe tbody tr th:only-of-type {\n",
       "        vertical-align: middle;\n",
       "    }\n",
       "\n",
       "    .dataframe tbody tr th {\n",
       "        vertical-align: top;\n",
       "    }\n",
       "\n",
       "    .dataframe thead th {\n",
       "        text-align: right;\n",
       "    }\n",
       "</style>\n",
       "<table border=\"1\" class=\"dataframe\">\n",
       "  <thead>\n",
       "    <tr style=\"text-align: right;\">\n",
       "      <th></th>\n",
       "      <th>Coefs</th>\n",
       "    </tr>\n",
       "  </thead>\n",
       "  <tbody>\n",
       "    <tr>\n",
       "      <th>const</th>\n",
       "      <td>4.514720</td>\n",
       "    </tr>\n",
       "    <tr>\n",
       "      <th>CRIM</th>\n",
       "      <td>-0.011919</td>\n",
       "    </tr>\n",
       "    <tr>\n",
       "      <th>CHAS</th>\n",
       "      <td>0.116497</td>\n",
       "    </tr>\n",
       "    <tr>\n",
       "      <th>NOX</th>\n",
       "      <td>-1.023431</td>\n",
       "    </tr>\n",
       "    <tr>\n",
       "      <th>RM</th>\n",
       "      <td>0.062203</td>\n",
       "    </tr>\n",
       "    <tr>\n",
       "      <th>DIS</th>\n",
       "      <td>-0.043391</td>\n",
       "    </tr>\n",
       "    <tr>\n",
       "      <th>RAD</th>\n",
       "      <td>0.008288</td>\n",
       "    </tr>\n",
       "    <tr>\n",
       "      <th>PTRATIO</th>\n",
       "      <td>-0.049038</td>\n",
       "    </tr>\n",
       "    <tr>\n",
       "      <th>B</th>\n",
       "      <td>0.000249</td>\n",
       "    </tr>\n",
       "    <tr>\n",
       "      <th>LSTAT</th>\n",
       "      <td>-0.028659</td>\n",
       "    </tr>\n",
       "  </tbody>\n",
       "</table>\n",
       "</div>"
      ],
      "text/plain": [
       "            Coefs\n",
       "const    4.514720\n",
       "CRIM    -0.011919\n",
       "CHAS     0.116497\n",
       "NOX     -1.023431\n",
       "RM       0.062203\n",
       "DIS     -0.043391\n",
       "RAD      0.008288\n",
       "PTRATIO -0.049038\n",
       "B        0.000249\n",
       "LSTAT   -0.028659"
      ]
     },
     "execution_count": 34,
     "metadata": {},
     "output_type": "execute_result"
    }
   ],
   "source": [
    "coef = pd.Series(index = X_train.columns, data = model2.params.values)\n",
    "\n",
    "coef_df = pd.DataFrame(data = {'Coefs': model2.params.values }, index =  X_train.columns)\n",
    "coef_df"
   ]
  },
  {
   "cell_type": "code",
   "execution_count": 35,
   "id": "cad017cc",
   "metadata": {
    "execution": {
     "iopub.execute_input": "2021-08-09T14:51:11.162755Z",
     "iopub.status.busy": "2021-08-09T14:51:11.161987Z",
     "iopub.status.idle": "2021-08-09T14:51:11.174250Z",
     "shell.execute_reply": "2021-08-09T14:51:11.174724Z",
     "shell.execute_reply.started": "2021-08-09T14:46:26.569036Z"
    },
    "id": "PWh3qZDlHTRY",
    "outputId": "30d49dad-b88b-4a70-c783-65f3c4d7f0af",
    "papermill": {
     "duration": 0.114796,
     "end_time": "2021-08-09T14:51:11.174908",
     "exception": false,
     "start_time": "2021-08-09T14:51:11.060112",
     "status": "completed"
    },
    "tags": []
   },
   "outputs": [
    {
     "name": "stdout",
     "output_type": "stream",
     "text": [
      "log (Price) =\t( 4.514720483568421 ) *  const + ( -0.011918775173037776 ) *  CRIM + ( 0.11649715902151554 ) *  CHAS + ( -1.0234312247045114 ) *  NOX + ( 0.062202691330256465 ) *  RM + ( -0.04339113889561073 ) *  DIS + ( 0.00828769109170491 ) *  RAD + ( -0.04903790360575717 ) *  PTRATIO + ( 0.00024900512380057586 ) *  B + ( -0.028658731694441074 ) *  LSTAT + "
     ]
    }
   ],
   "source": [
    "# Let us write the equation of the fit\n",
    "Equation = \"log (Price) =\"\n",
    "print(Equation, end='\\t')\n",
    "for i in range(len(coef)):\n",
    "    print('(', coef[i], ') * ', coef.index[i], '+', end = ' ')"
   ]
  },
  {
   "cell_type": "markdown",
   "id": "21c099ea",
   "metadata": {
    "id": "_KNywQaDRKqA",
    "papermill": {
     "duration": 0.0957,
     "end_time": "2021-08-09T14:51:11.367238",
     "exception": false,
     "start_time": "2021-08-09T14:51:11.271538",
     "status": "completed"
    },
    "tags": []
   },
   "source": [
    "### Conclusions and business recommendations derived from the model"
   ]
  },
  {
   "cell_type": "markdown",
   "id": "55772e5e",
   "metadata": {
    "id": "qtKmJZYxRAj-",
    "papermill": {
     "duration": 0.095413,
     "end_time": "2021-08-09T14:51:11.558874",
     "exception": false,
     "start_time": "2021-08-09T14:51:11.463461",
     "status": "completed"
    },
    "tags": []
   },
   "source": [
    "- We started by exploring the data and performing EDA including univariate and bivariate analysis.\n",
    "- We checked for Multicollinearity which is found between RAD and TAX, based on that TAX was droped.\n",
    "- We analyzed and drop insignificant variables (ZN, AGE, and INDUS).\n",
    "- Then we checked the linear regression assumptions which held true.\n",
    "- Then built the model, checked its performance and applied cross validation and concluded results.\n",
    "- At least 50% of Boston towns have no zoned lands for large lot and most of the houses are not on Charles riverside.\n",
    "- Most of the old owner-occupied houses are located closer employeement center where oxide concentration is high.\n",
    "- The house prices increase as the rooms increases."
   ]
  },
  {
   "cell_type": "markdown",
   "id": "fbd4ef1a",
   "metadata": {
    "id": "Hvyj9LZNR2PY",
    "papermill": {
     "duration": 0.095094,
     "end_time": "2021-08-09T14:51:11.750274",
     "exception": false,
     "start_time": "2021-08-09T14:51:11.655180",
     "status": "completed"
    },
    "tags": []
   },
   "source": [
    "**Model Equation:** log (Price) = ( 4.649385823266652 ) const + ( -0.012500455079103941 ) CRIM + ( 0.11977319077019594 ) CHAS + ( -1.0562253516683235 ) NOX + ( 0.058906575109279144 ) RM + ( -0.044068890799406124 ) DIS + ( 0.007848474606244051 ) RAD + ( -0.048503620794999036 ) PTRATIO + ( -0.029277040479797338 ) * LSTAT\n",
    "\n",
    "* From the equation we can derive that, the prices go high for houses located near Charles river and housed with many rooms.\n",
    "* The prices are negatively affected mostly by the oxide concentration which is mostly high in employeement centers. Crime rates and residents profile also negatively affects prices."
   ]
  }
 ],
 "metadata": {
  "kernelspec": {
   "display_name": "Python 3",
   "language": "python",
   "name": "python3"
  },
  "language_info": {
   "codemirror_mode": {
    "name": "ipython",
    "version": 3
   },
   "file_extension": ".py",
   "mimetype": "text/x-python",
   "name": "python",
   "nbconvert_exporter": "python",
   "pygments_lexer": "ipython3",
   "version": "3.7.10"
  },
  "papermill": {
   "default_parameters": {},
   "duration": 37.032542,
   "end_time": "2021-08-09T14:51:13.157881",
   "environment_variables": {},
   "exception": null,
   "input_path": "__notebook__.ipynb",
   "output_path": "__notebook__.ipynb",
   "parameters": {},
   "start_time": "2021-08-09T14:50:36.125339",
   "version": "2.3.3"
  }
 },
 "nbformat": 4,
 "nbformat_minor": 5
}
